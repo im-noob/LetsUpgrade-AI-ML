{
  "nbformat": 4,
  "nbformat_minor": 0,
  "metadata": {
    "kernelspec": {
      "display_name": "Python 3",
      "language": "python",
      "name": "python3"
    },
    "language_info": {
      "codemirror_mode": {
        "name": "ipython",
        "version": 3
      },
      "file_extension": ".py",
      "mimetype": "text/x-python",
      "name": "python",
      "nbconvert_exporter": "python",
      "pygments_lexer": "ipython3",
      "version": "3.7.4"
    },
    "colab": {
      "name": "Day 17 18 19.ipynb",
      "provenance": []
    }
  },
  "cells": [
    {
      "cell_type": "code",
      "metadata": {
        "ExecuteTime": {
          "end_time": "2020-08-02T16:46:13.573600Z",
          "start_time": "2020-08-02T16:46:04.567604Z"
        },
        "id": "Iq3ZsumCJZz6",
        "colab_type": "code",
        "colab": {}
      },
      "source": [
        "%matplotlib inline\n",
        "import pandas as pd"
      ],
      "execution_count": 3,
      "outputs": []
    },
    {
      "cell_type": "code",
      "metadata": {
        "ExecuteTime": {
          "end_time": "2020-08-02T16:46:14.184143Z",
          "start_time": "2020-08-02T16:46:13.580568Z"
        },
        "id": "tUu6pL_5JZ0D",
        "colab_type": "code",
        "colab": {
          "base_uri": "https://localhost:8080/",
          "height": 197
        },
        "outputId": "9d5de72d-ebe0-450e-bbd2-117ce3201a84"
      },
      "source": [
        "titles = pd.read_csv('titles.csv')\n",
        "titles.head()"
      ],
      "execution_count": 4,
      "outputs": [
        {
          "output_type": "execute_result",
          "data": {
            "text/html": [
              "<div>\n",
              "<style scoped>\n",
              "    .dataframe tbody tr th:only-of-type {\n",
              "        vertical-align: middle;\n",
              "    }\n",
              "\n",
              "    .dataframe tbody tr th {\n",
              "        vertical-align: top;\n",
              "    }\n",
              "\n",
              "    .dataframe thead th {\n",
              "        text-align: right;\n",
              "    }\n",
              "</style>\n",
              "<table border=\"1\" class=\"dataframe\">\n",
              "  <thead>\n",
              "    <tr style=\"text-align: right;\">\n",
              "      <th></th>\n",
              "      <th>title</th>\n",
              "      <th>year</th>\n",
              "    </tr>\n",
              "  </thead>\n",
              "  <tbody>\n",
              "    <tr>\n",
              "      <th>0</th>\n",
              "      <td>Tasveer Mere Sanam</td>\n",
              "      <td>1996</td>\n",
              "    </tr>\n",
              "    <tr>\n",
              "      <th>1</th>\n",
              "      <td>Only You</td>\n",
              "      <td>1994</td>\n",
              "    </tr>\n",
              "    <tr>\n",
              "      <th>2</th>\n",
              "      <td>El pueblo del terror</td>\n",
              "      <td>1970</td>\n",
              "    </tr>\n",
              "    <tr>\n",
              "      <th>3</th>\n",
              "      <td>Machine</td>\n",
              "      <td>2007</td>\n",
              "    </tr>\n",
              "    <tr>\n",
              "      <th>4</th>\n",
              "      <td>MARy</td>\n",
              "      <td>2008</td>\n",
              "    </tr>\n",
              "  </tbody>\n",
              "</table>\n",
              "</div>"
            ],
            "text/plain": [
              "                  title  year\n",
              "0    Tasveer Mere Sanam  1996\n",
              "1              Only You  1994\n",
              "2  El pueblo del terror  1970\n",
              "3               Machine  2007\n",
              "4                  MARy  2008"
            ]
          },
          "metadata": {
            "tags": []
          },
          "execution_count": 4
        }
      ]
    },
    {
      "cell_type": "code",
      "metadata": {
        "ExecuteTime": {
          "end_time": "2020-08-02T16:46:14.200883Z",
          "start_time": "2020-08-02T16:46:14.189796Z"
        },
        "id": "ZkgTPDxFJZ0L",
        "colab_type": "code",
        "colab": {
          "base_uri": "https://localhost:8080/",
          "height": 70
        },
        "outputId": "e4942f45-eb10-41c6-e51e-ec41779ebbd8"
      },
      "source": [
        "titles.dtypes"
      ],
      "execution_count": 5,
      "outputs": [
        {
          "output_type": "execute_result",
          "data": {
            "text/plain": [
              "title    object\n",
              "year      int64\n",
              "dtype: object"
            ]
          },
          "metadata": {
            "tags": []
          },
          "execution_count": 5
        }
      ]
    },
    {
      "cell_type": "markdown",
      "metadata": {
        "collapsed": true,
        "id": "COvkOCISJZ0Y",
        "colab_type": "text"
      },
      "source": [
        "### How many movies are listed in the titles dataframe?"
      ]
    },
    {
      "cell_type": "code",
      "metadata": {
        "ExecuteTime": {
          "end_time": "2020-08-02T16:46:14.425024Z",
          "start_time": "2020-08-02T16:46:14.205902Z"
        },
        "id": "nvsbpUUkJZ0b",
        "colab_type": "code",
        "colab": {
          "base_uri": "https://localhost:8080/",
          "height": 34
        },
        "outputId": "2be08bb0-e785-4d36-a823-4bd7e14dbe33"
      },
      "source": [
        "len(titles['title'].unique())"
      ],
      "execution_count": 6,
      "outputs": [
        {
          "output_type": "execute_result",
          "data": {
            "text/plain": [
              "223828"
            ]
          },
          "metadata": {
            "tags": []
          },
          "execution_count": 6
        }
      ]
    },
    {
      "cell_type": "markdown",
      "metadata": {
        "collapsed": true,
        "id": "x3tnSy7AJZ0i",
        "colab_type": "text"
      },
      "source": [
        "### What are the earliest two films listed in the titles dataframe?"
      ]
    },
    {
      "cell_type": "code",
      "metadata": {
        "ExecuteTime": {
          "end_time": "2020-08-02T16:46:14.514678Z",
          "start_time": "2020-08-02T16:46:14.427895Z"
        },
        "id": "6NkxNyzUJZ0k",
        "colab_type": "code",
        "colab": {
          "base_uri": "https://localhost:8080/",
          "height": 107
        },
        "outputId": "456cc187-7262-4832-e900-4f846bfb6bc6"
      },
      "source": [
        "titles.sort_values(by='year')[0:2]"
      ],
      "execution_count": 7,
      "outputs": [
        {
          "output_type": "execute_result",
          "data": {
            "text/html": [
              "<div>\n",
              "<style scoped>\n",
              "    .dataframe tbody tr th:only-of-type {\n",
              "        vertical-align: middle;\n",
              "    }\n",
              "\n",
              "    .dataframe tbody tr th {\n",
              "        vertical-align: top;\n",
              "    }\n",
              "\n",
              "    .dataframe thead th {\n",
              "        text-align: right;\n",
              "    }\n",
              "</style>\n",
              "<table border=\"1\" class=\"dataframe\">\n",
              "  <thead>\n",
              "    <tr style=\"text-align: right;\">\n",
              "      <th></th>\n",
              "      <th>title</th>\n",
              "      <th>year</th>\n",
              "    </tr>\n",
              "  </thead>\n",
              "  <tbody>\n",
              "    <tr>\n",
              "      <th>193222</th>\n",
              "      <td>Miss Jerry</td>\n",
              "      <td>1894</td>\n",
              "    </tr>\n",
              "    <tr>\n",
              "      <th>51388</th>\n",
              "      <td>The Startled Lover</td>\n",
              "      <td>1898</td>\n",
              "    </tr>\n",
              "  </tbody>\n",
              "</table>\n",
              "</div>"
            ],
            "text/plain": [
              "                     title  year\n",
              "193222          Miss Jerry  1894\n",
              "51388   The Startled Lover  1898"
            ]
          },
          "metadata": {
            "tags": []
          },
          "execution_count": 7
        }
      ]
    },
    {
      "cell_type": "markdown",
      "metadata": {
        "collapsed": true,
        "id": "zOz35lCyJZ0r",
        "colab_type": "text"
      },
      "source": [
        "### How many movies have the title \"Hamlet\"?"
      ]
    },
    {
      "cell_type": "code",
      "metadata": {
        "ExecuteTime": {
          "end_time": "2020-08-02T16:46:14.614444Z",
          "start_time": "2020-08-02T16:46:14.519664Z"
        },
        "id": "J9JLYpTQJZ0s",
        "colab_type": "code",
        "colab": {
          "base_uri": "https://localhost:8080/",
          "height": 34
        },
        "outputId": "4904b874-1477-41dc-f786-15d8969bcf61"
      },
      "source": [
        "len(titles[titles['title']=='Hamlet'])"
      ],
      "execution_count": 8,
      "outputs": [
        {
          "output_type": "execute_result",
          "data": {
            "text/plain": [
              "20"
            ]
          },
          "metadata": {
            "tags": []
          },
          "execution_count": 8
        }
      ]
    },
    {
      "cell_type": "markdown",
      "metadata": {
        "collapsed": true,
        "id": "us_qRh1NJZ0z",
        "colab_type": "text"
      },
      "source": [
        "### How many movies are titled \"North by Northwest\"?"
      ]
    },
    {
      "cell_type": "code",
      "metadata": {
        "ExecuteTime": {
          "end_time": "2020-08-02T16:46:14.711698Z",
          "start_time": "2020-08-02T16:46:14.617952Z"
        },
        "id": "KXZtMhWWJZ02",
        "colab_type": "code",
        "colab": {
          "base_uri": "https://localhost:8080/",
          "height": 34
        },
        "outputId": "fc540797-bb69-430d-e8d3-46749782c583"
      },
      "source": [
        "len(titles[titles['title']=='North by Northwest'])"
      ],
      "execution_count": 9,
      "outputs": [
        {
          "output_type": "execute_result",
          "data": {
            "text/plain": [
              "1"
            ]
          },
          "metadata": {
            "tags": []
          },
          "execution_count": 9
        }
      ]
    },
    {
      "cell_type": "markdown",
      "metadata": {
        "collapsed": true,
        "id": "_kwqwkaeJZ0-",
        "colab_type": "text"
      },
      "source": [
        "### When was the first movie titled \"Hamlet\" made?"
      ]
    },
    {
      "cell_type": "code",
      "metadata": {
        "ExecuteTime": {
          "end_time": "2020-08-02T16:46:14.828033Z",
          "start_time": "2020-08-02T16:46:14.715717Z"
        },
        "id": "ZUvYYUMdJZ0_",
        "colab_type": "code",
        "colab": {
          "base_uri": "https://localhost:8080/",
          "height": 34
        },
        "outputId": "2f279fff-a368-4343-ef2d-643965c1559f"
      },
      "source": [
        "list(titles[titles['title']=='Hamlet'].sort_values(by='year')['year'][0:1])[0]"
      ],
      "execution_count": 10,
      "outputs": [
        {
          "output_type": "execute_result",
          "data": {
            "text/plain": [
              "1910"
            ]
          },
          "metadata": {
            "tags": []
          },
          "execution_count": 10
        }
      ]
    },
    {
      "cell_type": "markdown",
      "metadata": {
        "collapsed": true,
        "id": "gSRMoA7nJZ1G",
        "colab_type": "text"
      },
      "source": [
        "### List all of the \"Treasure Island\" movies from earliest to most recent."
      ]
    },
    {
      "cell_type": "code",
      "metadata": {
        "ExecuteTime": {
          "end_time": "2020-08-02T16:46:14.939835Z",
          "start_time": "2020-08-02T16:46:14.831956Z"
        },
        "id": "ESuXjBM9JZ1I",
        "colab_type": "code",
        "colab": {
          "base_uri": "https://localhost:8080/",
          "height": 287
        },
        "outputId": "33cd160b-6e29-4ff1-ecee-595dc7a74ce7"
      },
      "source": [
        "titles[titles['title']=='Treasure Island'].sort_values(by='year')"
      ],
      "execution_count": 11,
      "outputs": [
        {
          "output_type": "execute_result",
          "data": {
            "text/html": [
              "<div>\n",
              "<style scoped>\n",
              "    .dataframe tbody tr th:only-of-type {\n",
              "        vertical-align: middle;\n",
              "    }\n",
              "\n",
              "    .dataframe tbody tr th {\n",
              "        vertical-align: top;\n",
              "    }\n",
              "\n",
              "    .dataframe thead th {\n",
              "        text-align: right;\n",
              "    }\n",
              "</style>\n",
              "<table border=\"1\" class=\"dataframe\">\n",
              "  <thead>\n",
              "    <tr style=\"text-align: right;\">\n",
              "      <th></th>\n",
              "      <th>title</th>\n",
              "      <th>year</th>\n",
              "    </tr>\n",
              "  </thead>\n",
              "  <tbody>\n",
              "    <tr>\n",
              "      <th>55686</th>\n",
              "      <td>Treasure Island</td>\n",
              "      <td>1918</td>\n",
              "    </tr>\n",
              "    <tr>\n",
              "      <th>196514</th>\n",
              "      <td>Treasure Island</td>\n",
              "      <td>1920</td>\n",
              "    </tr>\n",
              "    <tr>\n",
              "      <th>141822</th>\n",
              "      <td>Treasure Island</td>\n",
              "      <td>1934</td>\n",
              "    </tr>\n",
              "    <tr>\n",
              "      <th>77354</th>\n",
              "      <td>Treasure Island</td>\n",
              "      <td>1950</td>\n",
              "    </tr>\n",
              "    <tr>\n",
              "      <th>65051</th>\n",
              "      <td>Treasure Island</td>\n",
              "      <td>1972</td>\n",
              "    </tr>\n",
              "    <tr>\n",
              "      <th>37238</th>\n",
              "      <td>Treasure Island</td>\n",
              "      <td>1973</td>\n",
              "    </tr>\n",
              "    <tr>\n",
              "      <th>173051</th>\n",
              "      <td>Treasure Island</td>\n",
              "      <td>1985</td>\n",
              "    </tr>\n",
              "    <tr>\n",
              "      <th>27076</th>\n",
              "      <td>Treasure Island</td>\n",
              "      <td>1999</td>\n",
              "    </tr>\n",
              "  </tbody>\n",
              "</table>\n",
              "</div>"
            ],
            "text/plain": [
              "                  title  year\n",
              "55686   Treasure Island  1918\n",
              "196514  Treasure Island  1920\n",
              "141822  Treasure Island  1934\n",
              "77354   Treasure Island  1950\n",
              "65051   Treasure Island  1972\n",
              "37238   Treasure Island  1973\n",
              "173051  Treasure Island  1985\n",
              "27076   Treasure Island  1999"
            ]
          },
          "metadata": {
            "tags": []
          },
          "execution_count": 11
        }
      ]
    },
    {
      "cell_type": "markdown",
      "metadata": {
        "collapsed": true,
        "id": "hDUrjrUwJZ1S",
        "colab_type": "text"
      },
      "source": [
        "### How many movies were made in the year 1950?"
      ]
    },
    {
      "cell_type": "code",
      "metadata": {
        "ExecuteTime": {
          "end_time": "2020-08-02T16:46:15.022474Z",
          "start_time": "2020-08-02T16:46:14.942387Z"
        },
        "id": "JY_SVJ0XJZ1T",
        "colab_type": "code",
        "colab": {
          "base_uri": "https://localhost:8080/",
          "height": 34
        },
        "outputId": "24a77c00-e028-4614-dc7c-e96f7034e055"
      },
      "source": [
        "len(titles[titles['year']==1950])"
      ],
      "execution_count": 12,
      "outputs": [
        {
          "output_type": "execute_result",
          "data": {
            "text/plain": [
              "1113"
            ]
          },
          "metadata": {
            "tags": []
          },
          "execution_count": 12
        }
      ]
    },
    {
      "cell_type": "markdown",
      "metadata": {
        "collapsed": true,
        "id": "D67g7gjwJZ1c",
        "colab_type": "text"
      },
      "source": [
        "### How many movies were made in the year 1960?"
      ]
    },
    {
      "cell_type": "code",
      "metadata": {
        "ExecuteTime": {
          "end_time": "2020-08-02T16:46:15.123557Z",
          "start_time": "2020-08-02T16:46:15.026480Z"
        },
        "id": "bTaZgv38JZ1e",
        "colab_type": "code",
        "colab": {
          "base_uri": "https://localhost:8080/",
          "height": 34
        },
        "outputId": "03fd9dc2-c169-43d2-da7c-77a2d75fe57d"
      },
      "source": [
        "len(titles[titles['year']==1960])"
      ],
      "execution_count": 13,
      "outputs": [
        {
          "output_type": "execute_result",
          "data": {
            "text/plain": [
              "1549"
            ]
          },
          "metadata": {
            "tags": []
          },
          "execution_count": 13
        }
      ]
    },
    {
      "cell_type": "markdown",
      "metadata": {
        "collapsed": true,
        "id": "KgMzvkISJZ1m",
        "colab_type": "text"
      },
      "source": [
        "### How many movies were made from 1950 through 1959?"
      ]
    },
    {
      "cell_type": "markdown",
      "metadata": {
        "id": "DOw272nIJZ1n",
        "colab_type": "text"
      },
      "source": [
        ""
      ]
    },
    {
      "cell_type": "code",
      "metadata": {
        "ExecuteTime": {
          "end_time": "2020-08-02T16:46:15.258160Z",
          "start_time": "2020-08-02T16:46:15.127244Z"
        },
        "id": "dpmrNRglJZ1o",
        "colab_type": "code",
        "colab": {
          "base_uri": "https://localhost:8080/",
          "height": 34
        },
        "outputId": "ce5703fa-3afe-4925-f678-407aee240bc2"
      },
      "source": [
        "len(titles[(titles['year']>1950) & (titles['year']<1960)] )"
      ],
      "execution_count": 14,
      "outputs": [
        {
          "output_type": "execute_result",
          "data": {
            "text/plain": [
              "11821"
            ]
          },
          "metadata": {
            "tags": []
          },
          "execution_count": 14
        }
      ]
    },
    {
      "cell_type": "markdown",
      "metadata": {
        "collapsed": true,
        "id": "qjoyWToQJZ1w",
        "colab_type": "text"
      },
      "source": [
        "### In what years has a movie titled \"Batman\" been released?"
      ]
    },
    {
      "cell_type": "code",
      "metadata": {
        "ExecuteTime": {
          "end_time": "2020-08-02T16:46:15.385495Z",
          "start_time": "2020-08-02T16:46:15.261839Z"
        },
        "id": "3Rg6EFZ8JZ1x",
        "colab_type": "code",
        "colab": {
          "base_uri": "https://localhost:8080/",
          "height": 34
        },
        "outputId": "87939ea6-0e8f-4971-cbbb-5c53464eaa2c"
      },
      "source": [
        "len(titles[titles['title']=='Batman'])"
      ],
      "execution_count": 15,
      "outputs": [
        {
          "output_type": "execute_result",
          "data": {
            "text/plain": [
              "2"
            ]
          },
          "metadata": {
            "tags": []
          },
          "execution_count": 15
        }
      ]
    },
    {
      "cell_type": "markdown",
      "metadata": {
        "collapsed": true,
        "id": "QJ37pfZLJZ13",
        "colab_type": "text"
      },
      "source": [
        "### How many roles were there in the movie \"Inception\"?"
      ]
    },
    {
      "cell_type": "code",
      "metadata": {
        "id": "RzTtXt2bXLt-",
        "colab_type": "code",
        "colab": {
          "base_uri": "https://localhost:8080/",
          "height": 194
        },
        "outputId": "5a392d51-c602-4ca7-e172-3f8884479ec9"
      },
      "source": [
        "!cat cast.csv | head"
      ],
      "execution_count": 16,
      "outputs": [
        {
          "output_type": "stream",
          "text": [
            "title,year,name,type,character,n\r\n",
            "Closet Monster,2015,Buffy #1,actor,Buffy 4,31\r\n",
            "Suuri illusioni,1985,Homo $,actor,Guests,22\r\n",
            "Battle of the Sexes,2017,$hutter,actor,Bobby Riggs Fan,10\r\n",
            "Secret in Their Eyes,2015,$hutter,actor,2002 Dodger Fan,\r\n",
            "Steve Jobs,2015,$hutter,actor,1988 Opera House Patron,\r\n",
            "Straight Outta Compton,2015,$hutter,actor,Club Patron,\r\n",
            "Straight Outta Compton,2015,$hutter,actor,Dopeman,\r\n",
            "For Thy Love 2,2009,Bee Moe $lim,actor,Thug 1,\r\n",
            "\"Lapis, Ballpen at Diploma, a True to Life Journey\",2014,Jori ' Danilo' Jurado Jr.,actor,Jaime (young),9\r\n"
          ],
          "name": "stdout"
        }
      ]
    },
    {
      "cell_type": "code",
      "metadata": {
        "ExecuteTime": {
          "start_time": "2020-08-02T16:47:55.007Z"
        },
        "id": "LJmGaGnEJZ14",
        "colab_type": "code",
        "colab": {
          "base_uri": "https://localhost:8080/",
          "height": 410
        },
        "outputId": "ef7d7b64-27d3-486d-d25f-823e24cff520"
      },
      "source": [
        "df_cast = pd.read_csv('cast.csv',error_bad_lines=False)"
      ],
      "execution_count": 17,
      "outputs": [
        {
          "output_type": "stream",
          "text": [
            "b'Skipping line 18247: expected 6 fields, saw 8\\nSkipping line 36436: expected 6 fields, saw 7\\nSkipping line 109121: expected 6 fields, saw 10\\n'\n",
            "b'Skipping line 144785: expected 6 fields, saw 8\\nSkipping line 180506: expected 6 fields, saw 8\\nSkipping line 216780: expected 6 fields, saw 8\\n'\n",
            "b'Skipping line 270699: expected 6 fields, saw 11\\nSkipping line 306546: expected 6 fields, saw 10\\nSkipping line 324462: expected 6 fields, saw 8\\nSkipping line 342362: expected 6 fields, saw 7\\nSkipping line 360147: expected 6 fields, saw 7\\nSkipping line 378078: expected 6 fields, saw 8\\n'\n",
            "b'Skipping line 414079: expected 6 fields, saw 7\\nSkipping line 431968: expected 6 fields, saw 9\\nSkipping line 467875: expected 6 fields, saw 7\\nSkipping line 485853: expected 6 fields, saw 8\\n'\n",
            "b'Skipping line 575620: expected 6 fields, saw 8\\nSkipping line 611791: expected 6 fields, saw 9\\nSkipping line 647749: expected 6 fields, saw 8\\n'\n",
            "b'Skipping line 683545: expected 6 fields, saw 8\\nSkipping line 718932: expected 6 fields, saw 8\\nSkipping line 754559: expected 6 fields, saw 8\\nSkipping line 772346: expected 6 fields, saw 8\\n'\n",
            "b'Skipping line 808477: expected 6 fields, saw 10\\nSkipping line 844391: expected 6 fields, saw 9\\n'\n",
            "b'Skipping line 934420: expected 6 fields, saw 8\\nSkipping line 970603: expected 6 fields, saw 8\\nSkipping line 988653: expected 6 fields, saw 8\\n'\n",
            "b'Skipping line 1096250: expected 6 fields, saw 8\\nSkipping line 1132239: expected 6 fields, saw 8\\n'\n",
            "b'Skipping line 1223066: expected 6 fields, saw 10\\nSkipping line 1277674: expected 6 fields, saw 11\\n'\n",
            "b'Skipping line 1350089: expected 6 fields, saw 10\\nSkipping line 1421816: expected 6 fields, saw 7\\n'\n",
            "b'Skipping line 1457859: expected 6 fields, saw 10\\nSkipping line 1512279: expected 6 fields, saw 10\\nSkipping line 1565763: expected 6 fields, saw 7\\n'\n",
            "b'Skipping line 1583760: expected 6 fields, saw 10\\nSkipping line 1673084: expected 6 fields, saw 10\\n'\n",
            "b'Skipping line 1708854: expected 6 fields, saw 8\\nSkipping line 1744601: expected 6 fields, saw 9\\nSkipping line 1798490: expected 6 fields, saw 10\\n'\n",
            "b'Skipping line 1852364: expected 6 fields, saw 10\\nSkipping line 1888297: expected 6 fields, saw 7\\nSkipping line 1942081: expected 6 fields, saw 8\\n'\n",
            "b'Skipping line 2086334: expected 6 fields, saw 8\\n'\n",
            "b'Skipping line 2122287: expected 6 fields, saw 9\\nSkipping line 2140452: expected 6 fields, saw 7\\nSkipping line 2212965: expected 6 fields, saw 8\\n'\n",
            "b'Skipping line 2302890: expected 6 fields, saw 8\\nSkipping line 2338776: expected 6 fields, saw 7\\n'\n",
            "b'Skipping line 2393183: expected 6 fields, saw 8\\nSkipping line 2411374: expected 6 fields, saw 8\\nSkipping line 2447497: expected 6 fields, saw 8\\nSkipping line 2465568: expected 6 fields, saw 8\\n'\n",
            "/usr/local/lib/python3.6/dist-packages/IPython/core/interactiveshell.py:2718: DtypeWarning: Columns (1) have mixed types.Specify dtype option on import or set low_memory=False.\n",
            "  interactivity=interactivity, compiler=compiler, result=result)\n"
          ],
          "name": "stderr"
        }
      ]
    },
    {
      "cell_type": "code",
      "metadata": {
        "id": "urWI2Y-WJZ2C",
        "colab_type": "code",
        "colab": {
          "base_uri": "https://localhost:8080/",
          "height": 197
        },
        "outputId": "2c716596-a4ae-492c-cd79-7c886a2fbd71"
      },
      "source": [
        "df_cast.tail()"
      ],
      "execution_count": 18,
      "outputs": [
        {
          "output_type": "execute_result",
          "data": {
            "text/html": [
              "<div>\n",
              "<style scoped>\n",
              "    .dataframe tbody tr th:only-of-type {\n",
              "        vertical-align: middle;\n",
              "    }\n",
              "\n",
              "    .dataframe tbody tr th {\n",
              "        vertical-align: top;\n",
              "    }\n",
              "\n",
              "    .dataframe thead th {\n",
              "        text-align: right;\n",
              "    }\n",
              "</style>\n",
              "<table border=\"1\" class=\"dataframe\">\n",
              "  <thead>\n",
              "    <tr style=\"text-align: right;\">\n",
              "      <th></th>\n",
              "      <th>title</th>\n",
              "      <th>year</th>\n",
              "      <th>name</th>\n",
              "      <th>type</th>\n",
              "      <th>character</th>\n",
              "      <th>n</th>\n",
              "    </tr>\n",
              "  </thead>\n",
              "  <tbody>\n",
              "    <tr>\n",
              "      <th>4416692</th>\n",
              "      <td>Foxtrot</td>\n",
              "      <td>1988</td>\n",
              "      <td>Lilja ??risd?ttir</td>\n",
              "      <td>actress</td>\n",
              "      <td>D?ra</td>\n",
              "      <td>24.0</td>\n",
              "    </tr>\n",
              "    <tr>\n",
              "      <th>4416693</th>\n",
              "      <td>Niceland (Population. 1.000.002)</td>\n",
              "      <td>2004</td>\n",
              "      <td>Sigr??ur J?na ??risd?ttir</td>\n",
              "      <td>actress</td>\n",
              "      <td>Woman in Bus</td>\n",
              "      <td>26.0</td>\n",
              "    </tr>\n",
              "    <tr>\n",
              "      <th>4416694</th>\n",
              "      <td>Skammdegi</td>\n",
              "      <td>1985</td>\n",
              "      <td>Dalla ??r?ard?ttir</td>\n",
              "      <td>actress</td>\n",
              "      <td>Hj?krunarkona</td>\n",
              "      <td>9.0</td>\n",
              "    </tr>\n",
              "    <tr>\n",
              "      <th>4416695</th>\n",
              "      <td>U.S.S.S.S...</td>\n",
              "      <td>2003</td>\n",
              "      <td>Krist?n Andrea ??r?ard?ttir</td>\n",
              "      <td>actress</td>\n",
              "      <td>Afgr.dama ? bens?nst??</td>\n",
              "      <td>17.0</td>\n",
              "    </tr>\n",
              "    <tr>\n",
              "      <th>4416696</th>\n",
              "      <td>Bye Bye Blue Bird</td>\n",
              "      <td>1999</td>\n",
              "      <td>Rosa ? R?gvu</td>\n",
              "      <td>actress</td>\n",
              "      <td>Pensionatv?rtinde</td>\n",
              "      <td>NaN</td>\n",
              "    </tr>\n",
              "  </tbody>\n",
              "</table>\n",
              "</div>"
            ],
            "text/plain": [
              "                                    title  year  ...               character     n\n",
              "4416692                           Foxtrot  1988  ...                    D?ra  24.0\n",
              "4416693  Niceland (Population. 1.000.002)  2004  ...            Woman in Bus  26.0\n",
              "4416694                         Skammdegi  1985  ...           Hj?krunarkona   9.0\n",
              "4416695                      U.S.S.S.S...  2003  ...  Afgr.dama ? bens?nst??  17.0\n",
              "4416696                 Bye Bye Blue Bird  1999  ...       Pensionatv?rtinde   NaN\n",
              "\n",
              "[5 rows x 6 columns]"
            ]
          },
          "metadata": {
            "tags": []
          },
          "execution_count": 18
        }
      ]
    },
    {
      "cell_type": "code",
      "metadata": {
        "id": "walp-TQvJZ2J",
        "colab_type": "code",
        "colab": {
          "base_uri": "https://localhost:8080/",
          "height": 247
        },
        "outputId": "8fc9c278-6fed-4eda-ff62-2719008327e5"
      },
      "source": [
        "df_cast.info()"
      ],
      "execution_count": 19,
      "outputs": [
        {
          "output_type": "stream",
          "text": [
            "<class 'pandas.core.frame.DataFrame'>\n",
            "RangeIndex: 4416697 entries, 0 to 4416696\n",
            "Data columns (total 6 columns):\n",
            " #   Column     Dtype  \n",
            "---  ------     -----  \n",
            " 0   title      object \n",
            " 1   year       object \n",
            " 2   name       object \n",
            " 3   type       object \n",
            " 4   character  object \n",
            " 5   n          float64\n",
            "dtypes: float64(1), object(5)\n",
            "memory usage: 202.2+ MB\n"
          ],
          "name": "stdout"
        }
      ]
    },
    {
      "cell_type": "code",
      "metadata": {
        "id": "R_pYZ228LcES",
        "colab_type": "code",
        "colab": {
          "base_uri": "https://localhost:8080/",
          "height": 34
        },
        "outputId": "e8ca7585-7ca7-439a-dc80-7a183fed8235"
      },
      "source": [
        "len(df_cast[df_cast['title'] == 'Inception']['character'].unique())"
      ],
      "execution_count": 20,
      "outputs": [
        {
          "output_type": "execute_result",
          "data": {
            "text/plain": [
              "56"
            ]
          },
          "metadata": {
            "tags": []
          },
          "execution_count": 20
        }
      ]
    },
    {
      "cell_type": "markdown",
      "metadata": {
        "collapsed": true,
        "id": "QCTkRmm8JZ2H",
        "colab_type": "text"
      },
      "source": [
        "### How many roles in the movie \"Inception\" are NOT ranked by an \"n\" value?"
      ]
    },
    {
      "cell_type": "code",
      "metadata": {
        "id": "vbQthqXLOexw",
        "colab_type": "code",
        "colab": {}
      },
      "source": [
        "import numpy as np"
      ],
      "execution_count": 21,
      "outputs": []
    },
    {
      "cell_type": "code",
      "metadata": {
        "id": "_tm5Y3ooJZ2O",
        "colab_type": "code",
        "colab": {
          "base_uri": "https://localhost:8080/",
          "height": 34
        },
        "outputId": "d1bd00f8-104a-4261-8a15-818dee557caf"
      },
      "source": [
        "len(df_cast[(df_cast['title'] == 'Inception') & (df_cast['n'].isnull()) ]['character'].unique())"
      ],
      "execution_count": 22,
      "outputs": [
        {
          "output_type": "execute_result",
          "data": {
            "text/plain": [
              "21"
            ]
          },
          "metadata": {
            "tags": []
          },
          "execution_count": 22
        }
      ]
    },
    {
      "cell_type": "markdown",
      "metadata": {
        "collapsed": true,
        "id": "PomsPGYfJZ2U",
        "colab_type": "text"
      },
      "source": [
        "### But how many roles in the movie \"Inception\" did receive an \"n\" value?"
      ]
    },
    {
      "cell_type": "code",
      "metadata": {
        "id": "HoRB0ES5JZ2V",
        "colab_type": "code",
        "colab": {
          "base_uri": "https://localhost:8080/",
          "height": 34
        },
        "outputId": "501e29c1-f70e-4a9d-e9c9-6af0dc50dcdb"
      },
      "source": [
        "len(df_cast[(df_cast['title'] == 'Inception') & (df_cast['n'].notna()) ]['character'].unique())"
      ],
      "execution_count": 23,
      "outputs": [
        {
          "output_type": "execute_result",
          "data": {
            "text/plain": [
              "36"
            ]
          },
          "metadata": {
            "tags": []
          },
          "execution_count": 23
        }
      ]
    },
    {
      "cell_type": "markdown",
      "metadata": {
        "collapsed": true,
        "id": "0YdPYfpSJZ2k",
        "colab_type": "text"
      },
      "source": [
        "### Display the cast of \"North by Northwest\" in their correct \"n\"-value order, ignoring roles that did not earn a numeric \"n\" value."
      ]
    },
    {
      "cell_type": "code",
      "metadata": {
        "id": "Xr30-euNJZ2l",
        "colab_type": "code",
        "colab": {
          "base_uri": "https://localhost:8080/",
          "height": 587
        },
        "outputId": "70a67c8f-3541-4c65-ab21-911ba78c413a"
      },
      "source": [
        "df_cast[df_cast['title'] == 'North by Northwest'].dropna().sort_values(by='n')"
      ],
      "execution_count": 24,
      "outputs": [
        {
          "output_type": "execute_result",
          "data": {
            "text/html": [
              "<div>\n",
              "<style scoped>\n",
              "    .dataframe tbody tr th:only-of-type {\n",
              "        vertical-align: middle;\n",
              "    }\n",
              "\n",
              "    .dataframe tbody tr th {\n",
              "        vertical-align: top;\n",
              "    }\n",
              "\n",
              "    .dataframe thead th {\n",
              "        text-align: right;\n",
              "    }\n",
              "</style>\n",
              "<table border=\"1\" class=\"dataframe\">\n",
              "  <thead>\n",
              "    <tr style=\"text-align: right;\">\n",
              "      <th></th>\n",
              "      <th>title</th>\n",
              "      <th>year</th>\n",
              "      <th>name</th>\n",
              "      <th>type</th>\n",
              "      <th>character</th>\n",
              "      <th>n</th>\n",
              "    </tr>\n",
              "  </thead>\n",
              "  <tbody>\n",
              "    <tr>\n",
              "      <th>1735990</th>\n",
              "      <td>North by Northwest</td>\n",
              "      <td>1959</td>\n",
              "      <td>Cary Grant</td>\n",
              "      <td>actor</td>\n",
              "      <td>Roger O. Thornhill</td>\n",
              "      <td>1.0</td>\n",
              "    </tr>\n",
              "    <tr>\n",
              "      <th>495231</th>\n",
              "      <td>North by Northwest</td>\n",
              "      <td>1959</td>\n",
              "      <td>Cary Grant</td>\n",
              "      <td>actor</td>\n",
              "      <td>Roger O. Thornhill</td>\n",
              "      <td>1.0</td>\n",
              "    </tr>\n",
              "    <tr>\n",
              "      <th>4148854</th>\n",
              "      <td>North by Northwest</td>\n",
              "      <td>1959</td>\n",
              "      <td>Eva Marie Saint</td>\n",
              "      <td>actress</td>\n",
              "      <td>Eve Kendall</td>\n",
              "      <td>2.0</td>\n",
              "    </tr>\n",
              "    <tr>\n",
              "      <th>1654247</th>\n",
              "      <td>North by Northwest</td>\n",
              "      <td>1959</td>\n",
              "      <td>James Mason</td>\n",
              "      <td>actor</td>\n",
              "      <td>Phillip Vandamm</td>\n",
              "      <td>3.0</td>\n",
              "    </tr>\n",
              "    <tr>\n",
              "      <th>3787753</th>\n",
              "      <td>North by Northwest</td>\n",
              "      <td>1959</td>\n",
              "      <td>Jessie Royce Landis</td>\n",
              "      <td>actress</td>\n",
              "      <td>Clara Thornhill</td>\n",
              "      <td>4.0</td>\n",
              "    </tr>\n",
              "    <tr>\n",
              "      <th>697785</th>\n",
              "      <td>North by Northwest</td>\n",
              "      <td>1959</td>\n",
              "      <td>Leo G. Carroll</td>\n",
              "      <td>actor</td>\n",
              "      <td>The Professor</td>\n",
              "      <td>5.0</td>\n",
              "    </tr>\n",
              "    <tr>\n",
              "      <th>3678793</th>\n",
              "      <td>North by Northwest</td>\n",
              "      <td>1959</td>\n",
              "      <td>Josephine Hutchinson</td>\n",
              "      <td>actress</td>\n",
              "      <td>Mrs. Townsend</td>\n",
              "      <td>6.0</td>\n",
              "    </tr>\n",
              "    <tr>\n",
              "      <th>2144185</th>\n",
              "      <td>North by Northwest</td>\n",
              "      <td>1959</td>\n",
              "      <td>Philip Ober</td>\n",
              "      <td>actor</td>\n",
              "      <td>Lester Townsend</td>\n",
              "      <td>7.0</td>\n",
              "    </tr>\n",
              "    <tr>\n",
              "      <th>1293237</th>\n",
              "      <td>North by Northwest</td>\n",
              "      <td>1959</td>\n",
              "      <td>Martin Landau</td>\n",
              "      <td>actor</td>\n",
              "      <td>Leonard</td>\n",
              "      <td>8.0</td>\n",
              "    </tr>\n",
              "    <tr>\n",
              "      <th>3077602</th>\n",
              "      <td>North by Northwest</td>\n",
              "      <td>1959</td>\n",
              "      <td>Adam Williams</td>\n",
              "      <td>actor</td>\n",
              "      <td>Valerian</td>\n",
              "      <td>9.0</td>\n",
              "    </tr>\n",
              "    <tr>\n",
              "      <th>2369063</th>\n",
              "      <td>North by Northwest</td>\n",
              "      <td>1959</td>\n",
              "      <td>Edward Platt</td>\n",
              "      <td>actor</td>\n",
              "      <td>Victor Larrabee</td>\n",
              "      <td>10.0</td>\n",
              "    </tr>\n",
              "    <tr>\n",
              "      <th>1332527</th>\n",
              "      <td>North by Northwest</td>\n",
              "      <td>1959</td>\n",
              "      <td>Robert Ellenstein</td>\n",
              "      <td>actor</td>\n",
              "      <td>Licht</td>\n",
              "      <td>11.0</td>\n",
              "    </tr>\n",
              "    <tr>\n",
              "      <th>91589</th>\n",
              "      <td>North by Northwest</td>\n",
              "      <td>1959</td>\n",
              "      <td>Robert Ellenstein</td>\n",
              "      <td>actor</td>\n",
              "      <td>Licht</td>\n",
              "      <td>11.0</td>\n",
              "    </tr>\n",
              "    <tr>\n",
              "      <th>2926235</th>\n",
              "      <td>North by Northwest</td>\n",
              "      <td>1959</td>\n",
              "      <td>Les Tremayne</td>\n",
              "      <td>actor</td>\n",
              "      <td>Auctioneer</td>\n",
              "      <td>12.0</td>\n",
              "    </tr>\n",
              "    <tr>\n",
              "      <th>913812</th>\n",
              "      <td>North by Northwest</td>\n",
              "      <td>1959</td>\n",
              "      <td>Philip Coolidge</td>\n",
              "      <td>actor</td>\n",
              "      <td>Dr. Cross</td>\n",
              "      <td>13.0</td>\n",
              "    </tr>\n",
              "    <tr>\n",
              "      <th>1759155</th>\n",
              "      <td>North by Northwest</td>\n",
              "      <td>1959</td>\n",
              "      <td>Patrick McVey</td>\n",
              "      <td>actor</td>\n",
              "      <td>Sergeant Flamm</td>\n",
              "      <td>14.0</td>\n",
              "    </tr>\n",
              "    <tr>\n",
              "      <th>403789</th>\n",
              "      <td>North by Northwest</td>\n",
              "      <td>1959</td>\n",
              "      <td>Edward Binns</td>\n",
              "      <td>actor</td>\n",
              "      <td>Captain Junket</td>\n",
              "      <td>15.0</td>\n",
              "    </tr>\n",
              "    <tr>\n",
              "      <th>1510408</th>\n",
              "      <td>North by Northwest</td>\n",
              "      <td>1959</td>\n",
              "      <td>Ken Lynch</td>\n",
              "      <td>actor</td>\n",
              "      <td>Charley - Chicago Policeman</td>\n",
              "      <td>16.0</td>\n",
              "    </tr>\n",
              "  </tbody>\n",
              "</table>\n",
              "</div>"
            ],
            "text/plain": [
              "                      title  year  ...                    character     n\n",
              "1735990  North by Northwest  1959  ...           Roger O. Thornhill   1.0\n",
              "495231   North by Northwest  1959  ...           Roger O. Thornhill   1.0\n",
              "4148854  North by Northwest  1959  ...                  Eve Kendall   2.0\n",
              "1654247  North by Northwest  1959  ...              Phillip Vandamm   3.0\n",
              "3787753  North by Northwest  1959  ...              Clara Thornhill   4.0\n",
              "697785   North by Northwest  1959  ...                The Professor   5.0\n",
              "3678793  North by Northwest  1959  ...                Mrs. Townsend   6.0\n",
              "2144185  North by Northwest  1959  ...              Lester Townsend   7.0\n",
              "1293237  North by Northwest  1959  ...                      Leonard   8.0\n",
              "3077602  North by Northwest  1959  ...                     Valerian   9.0\n",
              "2369063  North by Northwest  1959  ...              Victor Larrabee  10.0\n",
              "1332527  North by Northwest  1959  ...                        Licht  11.0\n",
              "91589    North by Northwest  1959  ...                        Licht  11.0\n",
              "2926235  North by Northwest  1959  ...                   Auctioneer  12.0\n",
              "913812   North by Northwest  1959  ...                    Dr. Cross  13.0\n",
              "1759155  North by Northwest  1959  ...               Sergeant Flamm  14.0\n",
              "403789   North by Northwest  1959  ...               Captain Junket  15.0\n",
              "1510408  North by Northwest  1959  ...  Charley - Chicago Policeman  16.0\n",
              "\n",
              "[18 rows x 6 columns]"
            ]
          },
          "metadata": {
            "tags": []
          },
          "execution_count": 24
        }
      ]
    },
    {
      "cell_type": "markdown",
      "metadata": {
        "collapsed": true,
        "id": "e5JDvRz0JZ2y",
        "colab_type": "text"
      },
      "source": [
        "### Display the entire cast, in \"n\"-order, of the 1972 film \"Sleuth\"."
      ]
    },
    {
      "cell_type": "code",
      "metadata": {
        "id": "O50XlRkuJZ2z",
        "colab_type": "code",
        "colab": {
          "base_uri": "https://localhost:8080/",
          "height": 77
        },
        "outputId": "5ffa320d-a586-4411-8c4a-654c9d992ee7"
      },
      "source": [
        "df_cast[(df_cast['year'] == 1972) & (df_cast['title'] == 'Sleuth')].sort_values(by='n')"
      ],
      "execution_count": 25,
      "outputs": [
        {
          "output_type": "execute_result",
          "data": {
            "text/html": [
              "<div>\n",
              "<style scoped>\n",
              "    .dataframe tbody tr th:only-of-type {\n",
              "        vertical-align: middle;\n",
              "    }\n",
              "\n",
              "    .dataframe tbody tr th {\n",
              "        vertical-align: top;\n",
              "    }\n",
              "\n",
              "    .dataframe thead th {\n",
              "        text-align: right;\n",
              "    }\n",
              "</style>\n",
              "<table border=\"1\" class=\"dataframe\">\n",
              "  <thead>\n",
              "    <tr style=\"text-align: right;\">\n",
              "      <th></th>\n",
              "      <th>title</th>\n",
              "      <th>year</th>\n",
              "      <th>name</th>\n",
              "      <th>type</th>\n",
              "      <th>character</th>\n",
              "      <th>n</th>\n",
              "    </tr>\n",
              "  </thead>\n",
              "  <tbody>\n",
              "    <tr>\n",
              "      <th>3355074</th>\n",
              "      <td>Sleuth</td>\n",
              "      <td>1972</td>\n",
              "      <td>Eve (III) Channing</td>\n",
              "      <td>actress</td>\n",
              "      <td>Marguerite Wyke</td>\n",
              "      <td>5.0</td>\n",
              "    </tr>\n",
              "  </tbody>\n",
              "</table>\n",
              "</div>"
            ],
            "text/plain": [
              "          title  year                name     type        character    n\n",
              "3355074  Sleuth  1972  Eve (III) Channing  actress  Marguerite Wyke  5.0"
            ]
          },
          "metadata": {
            "tags": []
          },
          "execution_count": 25
        }
      ]
    },
    {
      "cell_type": "markdown",
      "metadata": {
        "collapsed": true,
        "id": "88PioeKUJZ3A",
        "colab_type": "text"
      },
      "source": [
        "### Now display the entire cast, in \"n\"-order, of the 2007 version of \"Sleuth\"."
      ]
    },
    {
      "cell_type": "code",
      "metadata": {
        "id": "Yw0_92xhJZ3B",
        "colab_type": "code",
        "colab": {
          "base_uri": "https://localhost:8080/",
          "height": 107
        },
        "outputId": "c7e45712-32ac-4a83-e8dc-cffd034f5a66"
      },
      "source": [
        "df_cast[(df_cast['year'] == 2007) & (df_cast['title'] == 'Sleuth')].sort_values(by='n')"
      ],
      "execution_count": 26,
      "outputs": [
        {
          "output_type": "execute_result",
          "data": {
            "text/html": [
              "<div>\n",
              "<style scoped>\n",
              "    .dataframe tbody tr th:only-of-type {\n",
              "        vertical-align: middle;\n",
              "    }\n",
              "\n",
              "    .dataframe tbody tr th {\n",
              "        vertical-align: top;\n",
              "    }\n",
              "\n",
              "    .dataframe thead th {\n",
              "        text-align: right;\n",
              "    }\n",
              "</style>\n",
              "<table border=\"1\" class=\"dataframe\">\n",
              "  <thead>\n",
              "    <tr style=\"text-align: right;\">\n",
              "      <th></th>\n",
              "      <th>title</th>\n",
              "      <th>year</th>\n",
              "      <th>name</th>\n",
              "      <th>type</th>\n",
              "      <th>character</th>\n",
              "      <th>n</th>\n",
              "    </tr>\n",
              "  </thead>\n",
              "  <tbody>\n",
              "    <tr>\n",
              "      <th>3355073</th>\n",
              "      <td>Sleuth</td>\n",
              "      <td>2007</td>\n",
              "      <td>Eve (II) Channing</td>\n",
              "      <td>actress</td>\n",
              "      <td>Marguerite Wyke</td>\n",
              "      <td>NaN</td>\n",
              "    </tr>\n",
              "    <tr>\n",
              "      <th>4000945</th>\n",
              "      <td>Sleuth</td>\n",
              "      <td>2007</td>\n",
              "      <td>Carmel O'Sullivan</td>\n",
              "      <td>actress</td>\n",
              "      <td>Maggie</td>\n",
              "      <td>NaN</td>\n",
              "    </tr>\n",
              "  </tbody>\n",
              "</table>\n",
              "</div>"
            ],
            "text/plain": [
              "          title  year               name     type        character   n\n",
              "3355073  Sleuth  2007  Eve (II) Channing  actress  Marguerite Wyke NaN\n",
              "4000945  Sleuth  2007  Carmel O'Sullivan  actress           Maggie NaN"
            ]
          },
          "metadata": {
            "tags": []
          },
          "execution_count": 26
        }
      ]
    },
    {
      "cell_type": "markdown",
      "metadata": {
        "collapsed": true,
        "id": "JmfpOLUVJZ3K",
        "colab_type": "text"
      },
      "source": [
        "### How many roles were credited in the silent 1921 version of Hamlet?"
      ]
    },
    {
      "cell_type": "code",
      "metadata": {
        "id": "LTtaR4yjJZ3L",
        "colab_type": "code",
        "colab": {
          "base_uri": "https://localhost:8080/",
          "height": 197
        },
        "outputId": "d8bd0464-a439-46f5-d544-5d3556111d75"
      },
      "source": [
        "df_cast[(df_cast['year'] == 1921) & (df_cast['title'] == 'Hamlet')]"
      ],
      "execution_count": 27,
      "outputs": [
        {
          "output_type": "execute_result",
          "data": {
            "text/html": [
              "<div>\n",
              "<style scoped>\n",
              "    .dataframe tbody tr th:only-of-type {\n",
              "        vertical-align: middle;\n",
              "    }\n",
              "\n",
              "    .dataframe tbody tr th {\n",
              "        vertical-align: top;\n",
              "    }\n",
              "\n",
              "    .dataframe thead th {\n",
              "        text-align: right;\n",
              "    }\n",
              "</style>\n",
              "<table border=\"1\" class=\"dataframe\">\n",
              "  <thead>\n",
              "    <tr style=\"text-align: right;\">\n",
              "      <th></th>\n",
              "      <th>title</th>\n",
              "      <th>year</th>\n",
              "      <th>name</th>\n",
              "      <th>type</th>\n",
              "      <th>character</th>\n",
              "      <th>n</th>\n",
              "    </tr>\n",
              "  </thead>\n",
              "  <tbody>\n",
              "    <tr>\n",
              "      <th>2816079</th>\n",
              "      <td>Hamlet</td>\n",
              "      <td>1921</td>\n",
              "      <td>Heinz Stieda</td>\n",
              "      <td>actor</td>\n",
              "      <td>Horatio</td>\n",
              "      <td>5.0</td>\n",
              "    </tr>\n",
              "    <tr>\n",
              "      <th>3006514</th>\n",
              "      <td>Hamlet</td>\n",
              "      <td>1921</td>\n",
              "      <td>Eduard von Winterstein</td>\n",
              "      <td>actor</td>\n",
              "      <td>Claudius</td>\n",
              "      <td>4.0</td>\n",
              "    </tr>\n",
              "    <tr>\n",
              "      <th>3294944</th>\n",
              "      <td>Hamlet</td>\n",
              "      <td>1921</td>\n",
              "      <td>Mathilde Brandt</td>\n",
              "      <td>actress</td>\n",
              "      <td>K?nigin Gertrude</td>\n",
              "      <td>3.0</td>\n",
              "    </tr>\n",
              "    <tr>\n",
              "      <th>3692544</th>\n",
              "      <td>Hamlet</td>\n",
              "      <td>1921</td>\n",
              "      <td>Lilly Jacobson</td>\n",
              "      <td>actress</td>\n",
              "      <td>Ophelia</td>\n",
              "      <td>8.0</td>\n",
              "    </tr>\n",
              "    <tr>\n",
              "      <th>3985697</th>\n",
              "      <td>Hamlet</td>\n",
              "      <td>1921</td>\n",
              "      <td>Asta Nielsen</td>\n",
              "      <td>actress</td>\n",
              "      <td>Hamlet</td>\n",
              "      <td>1.0</td>\n",
              "    </tr>\n",
              "  </tbody>\n",
              "</table>\n",
              "</div>"
            ],
            "text/plain": [
              "          title  year                    name     type         character    n\n",
              "2816079  Hamlet  1921            Heinz Stieda    actor           Horatio  5.0\n",
              "3006514  Hamlet  1921  Eduard von Winterstein    actor          Claudius  4.0\n",
              "3294944  Hamlet  1921         Mathilde Brandt  actress  K?nigin Gertrude  3.0\n",
              "3692544  Hamlet  1921          Lilly Jacobson  actress           Ophelia  8.0\n",
              "3985697  Hamlet  1921            Asta Nielsen  actress            Hamlet  1.0"
            ]
          },
          "metadata": {
            "tags": []
          },
          "execution_count": 27
        }
      ]
    },
    {
      "cell_type": "markdown",
      "metadata": {
        "id": "RN9By2WmSVR8",
        "colab_type": "text"
      },
      "source": [
        "#### What do you mean by silent ?"
      ]
    },
    {
      "cell_type": "markdown",
      "metadata": {
        "collapsed": true,
        "id": "pLriU-ydJZ3W",
        "colab_type": "text"
      },
      "source": [
        "### How many roles were credited in Branagh’s 1996 Hamlet?"
      ]
    },
    {
      "cell_type": "code",
      "metadata": {
        "id": "wpGIqI5xJZ3X",
        "colab_type": "code",
        "colab": {
          "base_uri": "https://localhost:8080/",
          "height": 34
        },
        "outputId": "c593ecca-cb14-4fd5-da50-84a3ff873382"
      },
      "source": [
        "len(df_cast[(df_cast['year'] == 1996) & (df_cast['title'] == 'Hamlet')])"
      ],
      "execution_count": 28,
      "outputs": [
        {
          "output_type": "execute_result",
          "data": {
            "text/plain": [
              "26"
            ]
          },
          "metadata": {
            "tags": []
          },
          "execution_count": 28
        }
      ]
    },
    {
      "cell_type": "markdown",
      "metadata": {
        "collapsed": true,
        "id": "0PCBnzJJJZ3g",
        "colab_type": "text"
      },
      "source": [
        "### How many \"Hamlet\" roles have been listed in all film credits through history?"
      ]
    },
    {
      "cell_type": "code",
      "metadata": {
        "id": "IQ6U-5c6JZ3h",
        "colab_type": "code",
        "colab": {
          "base_uri": "https://localhost:8080/",
          "height": 34
        },
        "outputId": "c0756079-c74c-4bbf-a094-6752c7612a74"
      },
      "source": [
        "len(df_cast[(df_cast['year'] == 1996) & (df_cast['title'] == 'Hamlet')])"
      ],
      "execution_count": 29,
      "outputs": [
        {
          "output_type": "execute_result",
          "data": {
            "text/plain": [
              "26"
            ]
          },
          "metadata": {
            "tags": []
          },
          "execution_count": 29
        }
      ]
    },
    {
      "cell_type": "markdown",
      "metadata": {
        "collapsed": true,
        "id": "q1A0LiT_JZ3p",
        "colab_type": "text"
      },
      "source": [
        "### How many people have played an \"Ophelia\"?"
      ]
    },
    {
      "cell_type": "code",
      "metadata": {
        "id": "i6rqZUOYJZ3q",
        "colab_type": "code",
        "colab": {
          "base_uri": "https://localhost:8080/",
          "height": 34
        },
        "outputId": "a308acfd-cae5-477a-96ef-a285487f58bf"
      },
      "source": [
        "len(df_cast[df_cast['character'] == 'Ophelia']['name'].unique())"
      ],
      "execution_count": 30,
      "outputs": [
        {
          "output_type": "execute_result",
          "data": {
            "text/plain": [
              "115"
            ]
          },
          "metadata": {
            "tags": []
          },
          "execution_count": 30
        }
      ]
    },
    {
      "cell_type": "markdown",
      "metadata": {
        "collapsed": true,
        "id": "K452ZfeJJZ33",
        "colab_type": "text"
      },
      "source": [
        "### How many people have played a role called \"The Dude\"?"
      ]
    },
    {
      "cell_type": "code",
      "metadata": {
        "id": "7Ugb0utBJZ34",
        "colab_type": "code",
        "colab": {
          "base_uri": "https://localhost:8080/",
          "height": 34
        },
        "outputId": "36ebc5b1-5cbe-4481-a179-c29dda103b0c"
      },
      "source": [
        "len(df_cast[df_cast['character'] == 'The Dude']['character'].unique())"
      ],
      "execution_count": 31,
      "outputs": [
        {
          "output_type": "execute_result",
          "data": {
            "text/plain": [
              "1"
            ]
          },
          "metadata": {
            "tags": []
          },
          "execution_count": 31
        }
      ]
    },
    {
      "cell_type": "markdown",
      "metadata": {
        "collapsed": true,
        "id": "wekVGLviJZ4B",
        "colab_type": "text"
      },
      "source": [
        "### How many people have played a role called \"The Stranger\"?"
      ]
    },
    {
      "cell_type": "code",
      "metadata": {
        "id": "nl0SkcEGJZ4C",
        "colab_type": "code",
        "colab": {
          "base_uri": "https://localhost:8080/",
          "height": 34
        },
        "outputId": "1715a244-b8fe-4f4a-91f5-cbee2ba2f63d"
      },
      "source": [
        "len(df_cast[df_cast['character'] == 'The Stranger']['name'].unique())"
      ],
      "execution_count": 32,
      "outputs": [
        {
          "output_type": "execute_result",
          "data": {
            "text/plain": [
              "202"
            ]
          },
          "metadata": {
            "tags": []
          },
          "execution_count": 32
        }
      ]
    },
    {
      "cell_type": "markdown",
      "metadata": {
        "collapsed": true,
        "id": "TVHeYWeyJZ4Q",
        "colab_type": "text"
      },
      "source": [
        "### How many roles has Sidney Poitier played throughout his career?"
      ]
    },
    {
      "cell_type": "code",
      "metadata": {
        "id": "NPTpbAnzJZ4R",
        "colab_type": "code",
        "colab": {
          "base_uri": "https://localhost:8080/",
          "height": 34
        },
        "outputId": "f656e686-9210-408a-96a4-97693426cfd0"
      },
      "source": [
        "len(df_cast[df_cast['name'] == 'Sidney Poitier'])"
      ],
      "execution_count": 33,
      "outputs": [
        {
          "output_type": "execute_result",
          "data": {
            "text/plain": [
              "43"
            ]
          },
          "metadata": {
            "tags": []
          },
          "execution_count": 33
        }
      ]
    },
    {
      "cell_type": "markdown",
      "metadata": {
        "collapsed": true,
        "id": "LxLfL9J9JZ4k",
        "colab_type": "text"
      },
      "source": [
        "### How many roles has Judi Dench played?"
      ]
    },
    {
      "cell_type": "code",
      "metadata": {
        "id": "fwMpKt5IJZ4m",
        "colab_type": "code",
        "colab": {
          "base_uri": "https://localhost:8080/",
          "height": 34
        },
        "outputId": "b813dec7-eaca-4446-c416-64d0f3533348"
      },
      "source": [
        "len(df_cast[df_cast['name'] == 'Judi Dench'])"
      ],
      "execution_count": 34,
      "outputs": [
        {
          "output_type": "execute_result",
          "data": {
            "text/plain": [
              "55"
            ]
          },
          "metadata": {
            "tags": []
          },
          "execution_count": 34
        }
      ]
    },
    {
      "cell_type": "markdown",
      "metadata": {
        "collapsed": true,
        "id": "bg5G239CJZ45",
        "colab_type": "text"
      },
      "source": [
        "### List the supporting roles (having n=2) played by Cary Grant in the 1940s, in order by year."
      ]
    },
    {
      "cell_type": "code",
      "metadata": {
        "id": "ivIsAZPbJZ5A",
        "colab_type": "code",
        "colab": {
          "base_uri": "https://localhost:8080/",
          "height": 34
        },
        "outputId": "af49499c-475f-48cd-a2ce-cbb89bff021f"
      },
      "source": [
        "len(df_cast[(df_cast['character'] == 'supporting') & (df_cast['n'] == 2) & (df_cast['year'] == 1940) ])"
      ],
      "execution_count": 35,
      "outputs": [
        {
          "output_type": "execute_result",
          "data": {
            "text/plain": [
              "0"
            ]
          },
          "metadata": {
            "tags": []
          },
          "execution_count": 35
        }
      ]
    },
    {
      "cell_type": "markdown",
      "metadata": {
        "collapsed": true,
        "id": "O3O-juIUJZ5G",
        "colab_type": "text"
      },
      "source": [
        "### List the leading roles that Cary Grant played in the 1940s in order by year."
      ]
    },
    {
      "cell_type": "code",
      "metadata": {
        "id": "ziLwm7uEJZ5H",
        "colab_type": "code",
        "colab": {
          "base_uri": "https://localhost:8080/",
          "height": 47
        },
        "outputId": "babb0fda-2a47-4275-d8ad-af29f249ff1c"
      },
      "source": [
        "df_cast[(df_cast['year'] == 1940) & (df_cast['title'] == 'Cary Grant')].sort_values(by='year')"
      ],
      "execution_count": 36,
      "outputs": [
        {
          "output_type": "execute_result",
          "data": {
            "text/html": [
              "<div>\n",
              "<style scoped>\n",
              "    .dataframe tbody tr th:only-of-type {\n",
              "        vertical-align: middle;\n",
              "    }\n",
              "\n",
              "    .dataframe tbody tr th {\n",
              "        vertical-align: top;\n",
              "    }\n",
              "\n",
              "    .dataframe thead th {\n",
              "        text-align: right;\n",
              "    }\n",
              "</style>\n",
              "<table border=\"1\" class=\"dataframe\">\n",
              "  <thead>\n",
              "    <tr style=\"text-align: right;\">\n",
              "      <th></th>\n",
              "      <th>title</th>\n",
              "      <th>year</th>\n",
              "      <th>name</th>\n",
              "      <th>type</th>\n",
              "      <th>character</th>\n",
              "      <th>n</th>\n",
              "    </tr>\n",
              "  </thead>\n",
              "  <tbody>\n",
              "  </tbody>\n",
              "</table>\n",
              "</div>"
            ],
            "text/plain": [
              "Empty DataFrame\n",
              "Columns: [title, year, name, type, character, n]\n",
              "Index: []"
            ]
          },
          "metadata": {
            "tags": []
          },
          "execution_count": 36
        }
      ]
    },
    {
      "cell_type": "markdown",
      "metadata": {
        "collapsed": true,
        "id": "WyIZIBmiJZ5U",
        "colab_type": "text"
      },
      "source": [
        "### How many roles were available for actors in the 1950s?"
      ]
    },
    {
      "cell_type": "code",
      "metadata": {
        "id": "00__989GJZ5V",
        "colab_type": "code",
        "colab": {
          "base_uri": "https://localhost:8080/",
          "height": 34
        },
        "outputId": "e37647dd-b5d1-4d17-b1f9-5c1e534b8779"
      },
      "source": [
        "len(df_cast[(df_cast['year'] == 1950)]['type'].unique())"
      ],
      "execution_count": 37,
      "outputs": [
        {
          "output_type": "execute_result",
          "data": {
            "text/plain": [
              "2"
            ]
          },
          "metadata": {
            "tags": []
          },
          "execution_count": 37
        }
      ]
    },
    {
      "cell_type": "markdown",
      "metadata": {
        "collapsed": true,
        "id": "awe0FJDEJZ5j",
        "colab_type": "text"
      },
      "source": [
        "### How many roles were available for actresses in the 1950s?"
      ]
    },
    {
      "cell_type": "code",
      "metadata": {
        "id": "UBhvKw_MJZ5k",
        "colab_type": "code",
        "colab": {
          "base_uri": "https://localhost:8080/",
          "height": 34
        },
        "outputId": "5c20c348-f9bd-4158-be80-c15360beda61"
      },
      "source": [
        "len(\n",
        "    df_cast[\n",
        "            (df_cast['year'] == 1950) & \n",
        "            (df_cast['type'] == 'actress')\n",
        "        ]\n",
        ")\n"
      ],
      "execution_count": 38,
      "outputs": [
        {
          "output_type": "execute_result",
          "data": {
            "text/plain": [
              "5637"
            ]
          },
          "metadata": {
            "tags": []
          },
          "execution_count": 38
        }
      ]
    },
    {
      "cell_type": "markdown",
      "metadata": {
        "collapsed": true,
        "id": "wXcAxofJJZ5y",
        "colab_type": "text"
      },
      "source": [
        "### How many leading roles (n=1) were available from the beginning of film history through 1980?"
      ]
    },
    {
      "cell_type": "code",
      "metadata": {
        "id": "oKdVSzKhcwGQ",
        "colab_type": "code",
        "colab": {}
      },
      "source": [
        ""
      ],
      "execution_count": 38,
      "outputs": []
    },
    {
      "cell_type": "code",
      "metadata": {
        "id": "jqQAKup_JZ5z",
        "colab_type": "code",
        "colab": {}
      },
      "source": [
        ""
      ],
      "execution_count": 38,
      "outputs": []
    },
    {
      "cell_type": "markdown",
      "metadata": {
        "collapsed": true,
        "id": "NtDi-Dg1JZ6L",
        "colab_type": "text"
      },
      "source": [
        "### How many roles through 1980 were minor enough that they did not warrant a numeric \"n\" rank?"
      ]
    },
    {
      "cell_type": "code",
      "metadata": {
        "id": "wpS4erB3JZ6M",
        "colab_type": "code",
        "colab": {
          "base_uri": "https://localhost:8080/",
          "height": 34
        },
        "outputId": "8a64cc7b-1f3c-4974-a280-27f2ad0e75df"
      },
      "source": [
        "len(df_cast[\n",
        "        (df_cast['year'] == 1980) & \n",
        "        (df_cast['n'].isnull())\n",
        "        ])"
      ],
      "execution_count": 40,
      "outputs": [
        {
          "output_type": "execute_result",
          "data": {
            "text/plain": [
              "2411"
            ]
          },
          "metadata": {
            "tags": []
          },
          "execution_count": 40
        }
      ]
    },
    {
      "cell_type": "code",
      "metadata": {
        "id": "198F2JduepWZ",
        "colab_type": "code",
        "colab": {}
      },
      "source": [
        ""
      ],
      "execution_count": 39,
      "outputs": []
    }
  ]
}