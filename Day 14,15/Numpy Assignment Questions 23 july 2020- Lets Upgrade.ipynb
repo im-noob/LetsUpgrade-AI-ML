{
 "cells": [
  {
   "cell_type": "markdown",
   "metadata": {},
   "source": [
    "# 1. Create a 3x3x3 array with random values "
   ]
  },
  {
   "cell_type": "code",
   "execution_count": 1,
   "metadata": {
    "ExecuteTime": {
     "end_time": "2020-07-25T22:11:03.609788Z",
     "start_time": "2020-07-25T22:11:01.735824Z"
    }
   },
   "outputs": [],
   "source": [
    "import numpy as np"
   ]
  },
  {
   "cell_type": "code",
   "execution_count": 2,
   "metadata": {
    "ExecuteTime": {
     "end_time": "2020-07-25T22:11:03.636609Z",
     "start_time": "2020-07-25T22:11:03.617696Z"
    }
   },
   "outputs": [
    {
     "data": {
      "text/plain": [
       "array([[[0.59212902, 0.25206585, 0.6024367 ],\n",
       "        [0.7060492 , 0.4478313 , 0.87650633],\n",
       "        [0.57467925, 0.16731329, 0.49817525]],\n",
       "\n",
       "       [[0.27010133, 0.4232138 , 0.3136496 ],\n",
       "        [0.38627176, 0.51843746, 0.53512061],\n",
       "        [0.68165375, 0.0877523 , 0.2975123 ]],\n",
       "\n",
       "       [[0.22177105, 0.99343049, 0.49007856],\n",
       "        [0.58846209, 0.34554508, 0.64500298],\n",
       "        [0.53363595, 0.46520336, 0.71400566]]])"
      ]
     },
     "execution_count": 2,
     "metadata": {},
     "output_type": "execute_result"
    }
   ],
   "source": [
    "np.random.rand(3,3,3)"
   ]
  },
  {
   "cell_type": "markdown",
   "metadata": {},
   "source": [
    "# 2.Create a 5x5 matrix with values 1,2,3,4 just below the diagonal"
   ]
  },
  {
   "cell_type": "code",
   "execution_count": 3,
   "metadata": {
    "ExecuteTime": {
     "end_time": "2020-07-25T22:11:03.721189Z",
     "start_time": "2020-07-25T22:11:03.639508Z"
    }
   },
   "outputs": [
    {
     "data": {
      "text/plain": [
       "array([[0., 0., 0., 0., 0.],\n",
       "       [0., 0., 0., 0., 0.],\n",
       "       [0., 0., 0., 0., 0.],\n",
       "       [0., 0., 0., 0., 0.],\n",
       "       [0., 0., 0., 0., 0.]])"
      ]
     },
     "execution_count": 3,
     "metadata": {},
     "output_type": "execute_result"
    }
   ],
   "source": [
    "d = np.zeros((5,5))\n",
    "d"
   ]
  },
  {
   "cell_type": "code",
   "execution_count": 4,
   "metadata": {
    "ExecuteTime": {
     "end_time": "2020-07-25T22:11:03.798515Z",
     "start_time": "2020-07-25T22:11:03.725465Z"
    }
   },
   "outputs": [
    {
     "data": {
      "text/plain": [
       "array([[0., 0., 0., 0., 0.],\n",
       "       [1., 0., 0., 0., 0.],\n",
       "       [2., 2., 0., 0., 0.],\n",
       "       [3., 3., 3., 0., 0.],\n",
       "       [4., 4., 4., 4., 0.]])"
      ]
     },
     "execution_count": 4,
     "metadata": {},
     "output_type": "execute_result"
    }
   ],
   "source": [
    "for i in range(1,5):\n",
    "    for j in range(i):\n",
    "        d[i,j] = i\n",
    "d"
   ]
  },
  {
   "cell_type": "markdown",
   "metadata": {},
   "source": [
    "# 3.Create a 8x8 matrix and fill it with a checkerboard pattern"
   ]
  },
  {
   "cell_type": "code",
   "execution_count": 5,
   "metadata": {
    "ExecuteTime": {
     "end_time": "2020-07-25T22:11:03.897862Z",
     "start_time": "2020-07-25T22:11:03.806087Z"
    }
   },
   "outputs": [],
   "source": [
    "d = np.zeros((8,8),dtype=int)"
   ]
  },
  {
   "cell_type": "code",
   "execution_count": 6,
   "metadata": {
    "ExecuteTime": {
     "end_time": "2020-07-25T22:11:03.998475Z",
     "start_time": "2020-07-25T22:11:03.910371Z"
    }
   },
   "outputs": [
    {
     "data": {
      "text/plain": [
       "array([[1, 0, 1, 0, 1, 0, 1, 0],\n",
       "       [0, 1, 0, 1, 0, 1, 0, 1],\n",
       "       [1, 0, 1, 0, 1, 0, 1, 0],\n",
       "       [0, 1, 0, 1, 0, 1, 0, 1],\n",
       "       [1, 0, 1, 0, 1, 0, 1, 0],\n",
       "       [0, 1, 0, 1, 0, 1, 0, 1],\n",
       "       [1, 0, 1, 0, 1, 0, 1, 0],\n",
       "       [0, 1, 0, 1, 0, 1, 0, 1]])"
      ]
     },
     "execution_count": 6,
     "metadata": {},
     "output_type": "execute_result"
    }
   ],
   "source": [
    "for i in range(8):\n",
    "    for j in range(8):\n",
    "        if (i+j)%2 == 0:\n",
    "            d[i,j] = 1\n",
    "            \n",
    "d"
   ]
  },
  {
   "cell_type": "markdown",
   "metadata": {},
   "source": [
    "# 4. Normalize a 5x5 random matrix"
   ]
  },
  {
   "cell_type": "code",
   "execution_count": 7,
   "metadata": {
    "ExecuteTime": {
     "end_time": "2020-07-25T22:11:04.103412Z",
     "start_time": "2020-07-25T22:11:04.003441Z"
    }
   },
   "outputs": [
    {
     "data": {
      "text/plain": [
       "array([[0.57116179, 0.36746102, 0.73546548, 0.32936464, 0.48880069],\n",
       "       [0.01282107, 0.67223746, 0.54812449, 0.36378795, 0.69043003],\n",
       "       [0.07902463, 0.44703131, 0.39026552, 0.55041657, 0.64505815],\n",
       "       [0.27370322, 0.42881826, 0.40380422, 0.50156679, 0.42686417],\n",
       "       [0.87120804, 0.57536814, 0.45655856, 0.65807136, 0.62172073]])"
      ]
     },
     "execution_count": 7,
     "metadata": {},
     "output_type": "execute_result"
    }
   ],
   "source": [
    "a = np.random.rand(5,5)\n",
    "a"
   ]
  },
  {
   "cell_type": "code",
   "execution_count": 8,
   "metadata": {
    "ExecuteTime": {
     "end_time": "2020-07-25T22:11:04.209744Z",
     "start_time": "2020-07-25T22:11:04.107956Z"
    }
   },
   "outputs": [],
   "source": [
    "a = a - a.mean()\n",
    "a = a / a.max()"
   ]
  },
  {
   "cell_type": "code",
   "execution_count": 9,
   "metadata": {
    "ExecuteTime": {
     "end_time": "2020-07-25T22:11:04.313681Z",
     "start_time": "2020-07-25T22:11:04.215525Z"
    }
   },
   "outputs": [
    {
     "data": {
      "text/plain": [
       "array([[ 0.22437138, -0.30220129,  0.64910138, -0.40068158,  0.01146543],\n",
       "       [-1.21895628,  0.48565503,  0.16481924, -0.31169629,  0.53268338],\n",
       "       [-1.04781809, -0.09650967, -0.24325097,  0.17074436,  0.41539569],\n",
       "       [-0.54456804, -0.14359096, -0.20825301,  0.04446619, -0.14864235],\n",
       "       [ 1.        ,  0.23524492, -0.07188146,  0.44903524,  0.35506776]])"
      ]
     },
     "execution_count": 9,
     "metadata": {},
     "output_type": "execute_result"
    }
   ],
   "source": [
    "a"
   ]
  },
  {
   "cell_type": "markdown",
   "metadata": {},
   "source": [
    "# 5.  How to find common values between two arrays?"
   ]
  },
  {
   "cell_type": "code",
   "execution_count": 10,
   "metadata": {
    "ExecuteTime": {
     "end_time": "2020-07-25T22:11:04.414865Z",
     "start_time": "2020-07-25T22:11:04.317534Z"
    }
   },
   "outputs": [
    {
     "data": {
      "text/plain": [
       "[8, 5, 7]"
      ]
     },
     "execution_count": 10,
     "metadata": {},
     "output_type": "execute_result"
    }
   ],
   "source": [
    "a = [2,33,5,6,7,8]\n",
    "b = [24,5,7,3,5,8,3,1,4,7,8,9]\n",
    "list(set(a).intersection(set(b))) "
   ]
  },
  {
   "cell_type": "markdown",
   "metadata": {},
   "source": [
    "# 6.How to get the dates of yesterday, today and tomorrow?"
   ]
  },
  {
   "cell_type": "code",
   "execution_count": 11,
   "metadata": {
    "ExecuteTime": {
     "end_time": "2020-07-25T22:11:04.520196Z",
     "start_time": "2020-07-25T22:11:04.420278Z"
    }
   },
   "outputs": [],
   "source": [
    "from datetime import date\n",
    "from datetime import timedelta"
   ]
  },
  {
   "cell_type": "code",
   "execution_count": 12,
   "metadata": {
    "ExecuteTime": {
     "end_time": "2020-07-25T22:11:04.652671Z",
     "start_time": "2020-07-25T22:11:04.526693Z"
    }
   },
   "outputs": [
    {
     "data": {
      "text/plain": [
       "'2020-07-26'"
      ]
     },
     "execution_count": 12,
     "metadata": {},
     "output_type": "execute_result"
    }
   ],
   "source": [
    "today = date.today()\n",
    "str(today)"
   ]
  },
  {
   "cell_type": "code",
   "execution_count": 13,
   "metadata": {
    "ExecuteTime": {
     "end_time": "2020-07-25T22:11:04.747013Z",
     "start_time": "2020-07-25T22:11:04.658502Z"
    }
   },
   "outputs": [
    {
     "data": {
      "text/plain": [
       "'2020-07-27'"
      ]
     },
     "execution_count": 13,
     "metadata": {},
     "output_type": "execute_result"
    }
   ],
   "source": [
    "tomorrow = date.today() + timedelta(days=1)\n",
    "str(tomorrow)"
   ]
  },
  {
   "cell_type": "code",
   "execution_count": 14,
   "metadata": {
    "ExecuteTime": {
     "end_time": "2020-07-25T22:11:04.837006Z",
     "start_time": "2020-07-25T22:11:04.751429Z"
    }
   },
   "outputs": [
    {
     "data": {
      "text/plain": [
       "'2020-07-25'"
      ]
     },
     "execution_count": 14,
     "metadata": {},
     "output_type": "execute_result"
    }
   ],
   "source": [
    "tomorrow = date.today() - timedelta(days=1)\n",
    "str(tomorrow)"
   ]
  },
  {
   "cell_type": "markdown",
   "metadata": {},
   "source": [
    "# 7. Consider two random array A and B, check if they are equal"
   ]
  },
  {
   "cell_type": "code",
   "execution_count": 15,
   "metadata": {
    "ExecuteTime": {
     "end_time": "2020-07-25T22:11:05.121803Z",
     "start_time": "2020-07-25T22:11:04.840835Z"
    }
   },
   "outputs": [
    {
     "name": "stdout",
     "output_type": "stream",
     "text": [
      "[0.75045667 0.21524984 0.99255822 0.20696991 0.39030126]\n",
      "[0.95506102 0.8512497  0.66036433 0.962703   0.98307054]\n"
     ]
    }
   ],
   "source": [
    "a = np.random.rand(5)\n",
    "b = np.random.rand(5)\n",
    "print(a)\n",
    "print(b)"
   ]
  },
  {
   "cell_type": "code",
   "execution_count": 16,
   "metadata": {
    "ExecuteTime": {
     "end_time": "2020-07-25T22:11:05.354920Z",
     "start_time": "2020-07-25T22:11:05.126757Z"
    }
   },
   "outputs": [
    {
     "data": {
      "text/plain": [
       "array([False, False, False, False, False])"
      ]
     },
     "execution_count": 16,
     "metadata": {},
     "output_type": "execute_result"
    }
   ],
   "source": [
    "a == b"
   ]
  },
  {
   "cell_type": "markdown",
   "metadata": {},
   "source": [
    "# 8.Create random vector of size 10 and replace the maximum value by 0 "
   ]
  },
  {
   "cell_type": "code",
   "execution_count": 17,
   "metadata": {
    "ExecuteTime": {
     "end_time": "2020-07-25T22:11:05.559754Z",
     "start_time": "2020-07-25T22:11:05.360462Z"
    }
   },
   "outputs": [
    {
     "data": {
      "text/plain": [
       "array([0.01765737, 0.75949172, 0.71877149, 0.70392625, 0.62497881,\n",
       "       0.10688963, 0.89707922, 0.47611013, 0.7594102 , 0.89651705])"
      ]
     },
     "execution_count": 17,
     "metadata": {},
     "output_type": "execute_result"
    }
   ],
   "source": [
    "vector = np.random.rand(10)\n",
    "vector"
   ]
  },
  {
   "cell_type": "code",
   "execution_count": 18,
   "metadata": {
    "ExecuteTime": {
     "end_time": "2020-07-25T22:11:05.647939Z",
     "start_time": "2020-07-25T22:11:05.564931Z"
    }
   },
   "outputs": [
    {
     "data": {
      "text/plain": [
       "array([0.01765737, 0.75949172, 0.71877149, 0.70392625, 0.62497881,\n",
       "       0.10688963, 0.89707922, 0.47611013, 0.7594102 , 0.89651705])"
      ]
     },
     "execution_count": 18,
     "metadata": {},
     "output_type": "execute_result"
    }
   ],
   "source": [
    "vector.sort\n",
    "vector"
   ]
  },
  {
   "cell_type": "code",
   "execution_count": 19,
   "metadata": {
    "ExecuteTime": {
     "end_time": "2020-07-25T22:11:05.754999Z",
     "start_time": "2020-07-25T22:11:05.652601Z"
    }
   },
   "outputs": [],
   "source": [
    "vector[-1] = 0"
   ]
  },
  {
   "cell_type": "code",
   "execution_count": 20,
   "metadata": {
    "ExecuteTime": {
     "end_time": "2020-07-25T22:11:05.846570Z",
     "start_time": "2020-07-25T22:11:05.758847Z"
    }
   },
   "outputs": [
    {
     "data": {
      "text/plain": [
       "array([0.01765737, 0.75949172, 0.71877149, 0.70392625, 0.62497881,\n",
       "       0.10688963, 0.89707922, 0.47611013, 0.7594102 , 0.        ])"
      ]
     },
     "execution_count": 20,
     "metadata": {},
     "output_type": "execute_result"
    }
   ],
   "source": [
    "vector"
   ]
  },
  {
   "cell_type": "markdown",
   "metadata": {},
   "source": [
    "# 9. How to print all the values of an array?"
   ]
  },
  {
   "cell_type": "code",
   "execution_count": 21,
   "metadata": {
    "ExecuteTime": {
     "end_time": "2020-07-25T22:11:06.045369Z",
     "start_time": "2020-07-25T22:11:05.866049Z"
    }
   },
   "outputs": [],
   "source": [
    "arr = np.random.rand(10)"
   ]
  },
  {
   "cell_type": "code",
   "execution_count": 22,
   "metadata": {
    "ExecuteTime": {
     "end_time": "2020-07-25T22:11:06.234659Z",
     "start_time": "2020-07-25T22:11:06.054982Z"
    }
   },
   "outputs": [
    {
     "name": "stdout",
     "output_type": "stream",
     "text": [
      "0.05366818318158417\n",
      "0.7071064681951267\n",
      "0.978165693020348\n",
      "0.5813253140089102\n",
      "0.16135591521228854\n",
      "0.5720645758583426\n",
      "0.040239130566469106\n",
      "0.8494418453169539\n",
      "0.47297674552632796\n",
      "0.36180240087039695\n"
     ]
    }
   ],
   "source": [
    "for one_ele in arr:\n",
    "    print(one_ele)"
   ]
  },
  {
   "cell_type": "markdown",
   "metadata": {},
   "source": [
    "# 10.Subtract the mean of each row of a matrix"
   ]
  },
  {
   "cell_type": "code",
   "execution_count": 23,
   "metadata": {
    "ExecuteTime": {
     "end_time": "2020-07-25T22:11:06.325156Z",
     "start_time": "2020-07-25T22:11:06.237721Z"
    }
   },
   "outputs": [
    {
     "data": {
      "text/plain": [
       "array([[0.24103784, 0.13095694, 0.72501055, 0.58954159],\n",
       "       [0.99435241, 0.87980646, 0.05920996, 0.14124803],\n",
       "       [0.17409142, 0.51834347, 0.73680832, 0.21768091],\n",
       "       [0.42569769, 0.08478345, 0.77416932, 0.68598881]])"
      ]
     },
     "execution_count": 23,
     "metadata": {},
     "output_type": "execute_result"
    }
   ],
   "source": [
    "mat = np.random.rand(4,4)\n",
    "mat"
   ]
  },
  {
   "cell_type": "code",
   "execution_count": 24,
   "metadata": {
    "ExecuteTime": {
     "end_time": "2020-07-25T22:11:06.479506Z",
     "start_time": "2020-07-25T22:11:06.329560Z"
    }
   },
   "outputs": [
    {
     "data": {
      "text/plain": [
       "array([[-0.22013261, -0.33021351,  0.2638401 ,  0.12837114],\n",
       "       [ 0.53318196,  0.41863601, -0.40196049, -0.31992242],\n",
       "       [-0.28707903,  0.05717302,  0.27563788, -0.24348953],\n",
       "       [-0.03547276, -0.376387  ,  0.31299887,  0.22481836]])"
      ]
     },
     "execution_count": 24,
     "metadata": {},
     "output_type": "execute_result"
    }
   ],
   "source": [
    "mat = mat - mat.mean()\n",
    "mat"
   ]
  },
  {
   "cell_type": "markdown",
   "metadata": {},
   "source": [
    "# 11.Consider a given vector, how to add 1 to each element indexed by a second vector (be careful with repeated indices)? "
   ]
  },
  {
   "cell_type": "code",
   "execution_count": 25,
   "metadata": {
    "ExecuteTime": {
     "end_time": "2020-07-25T22:11:06.622782Z",
     "start_time": "2020-07-25T22:11:06.483740Z"
    }
   },
   "outputs": [
    {
     "data": {
      "text/plain": [
       "array([0.0094328 , 0.07013406, 0.16465914, 0.17712097, 0.23697805,\n",
       "       0.3149517 , 0.34708077, 0.67988588, 0.84723244, 0.9422619 ])"
      ]
     },
     "execution_count": 25,
     "metadata": {},
     "output_type": "execute_result"
    }
   ],
   "source": [
    "vector = np.random.rand(10)\n",
    "vector.sort()\n",
    "vector"
   ]
  },
  {
   "cell_type": "code",
   "execution_count": 26,
   "metadata": {
    "ExecuteTime": {
     "end_time": "2020-07-25T22:11:06.751317Z",
     "start_time": "2020-07-25T22:11:06.628806Z"
    }
   },
   "outputs": [
    {
     "data": {
      "text/plain": [
       "array([1.0094328 , 1.07013406, 1.16465914, 1.17712097, 1.23697805,\n",
       "       1.3149517 , 1.34708077, 1.67988588, 1.84723244, 1.9422619 ])"
      ]
     },
     "execution_count": 26,
     "metadata": {},
     "output_type": "execute_result"
    }
   ],
   "source": [
    "vector = vector + 1\n",
    "vector"
   ]
  },
  {
   "cell_type": "markdown",
   "metadata": {},
   "source": [
    "#### There is no need to consider the index while adding 1 to all element "
   ]
  },
  {
   "cell_type": "markdown",
   "metadata": {},
   "source": [
    "# 12.How to get the diagonal of a dot product?"
   ]
  },
  {
   "cell_type": "code",
   "execution_count": 27,
   "metadata": {
    "ExecuteTime": {
     "end_time": "2020-07-25T22:11:06.836695Z",
     "start_time": "2020-07-25T22:11:06.755187Z"
    }
   },
   "outputs": [
    {
     "name": "stdout",
     "output_type": "stream",
     "text": [
      "[[1 2 5]\n",
      " [4 9 3]\n",
      " [7 3 7]]\n",
      "[[2 6 3]\n",
      " [8 5 8]\n",
      " [2 5 3]]\n"
     ]
    }
   ],
   "source": [
    "a = np.array([[1,2,5],[4,9,3],[7,3,7]])\n",
    "b = np.array([[2,6,3],[8,5,8],[2,5,3]])\n",
    "print(a)\n",
    "print(b)"
   ]
  },
  {
   "cell_type": "code",
   "execution_count": 28,
   "metadata": {
    "ExecuteTime": {
     "end_time": "2020-07-25T22:11:06.930048Z",
     "start_time": "2020-07-25T22:11:06.846421Z"
    }
   },
   "outputs": [
    {
     "data": {
      "text/plain": [
       "array([[28, 41, 34],\n",
       "       [86, 84, 93],\n",
       "       [52, 92, 66]])"
      ]
     },
     "execution_count": 28,
     "metadata": {},
     "output_type": "execute_result"
    }
   ],
   "source": [
    "c = a.dot(b)\n",
    "c"
   ]
  },
  {
   "cell_type": "code",
   "execution_count": 29,
   "metadata": {
    "ExecuteTime": {
     "end_time": "2020-07-25T22:11:07.091486Z",
     "start_time": "2020-07-25T22:11:06.939732Z"
    }
   },
   "outputs": [
    {
     "data": {
      "text/plain": [
       "array([28, 84, 66])"
      ]
     },
     "execution_count": 29,
     "metadata": {},
     "output_type": "execute_result"
    }
   ],
   "source": [
    "c.diagonal()"
   ]
  },
  {
   "cell_type": "markdown",
   "metadata": {},
   "source": [
    "# 13.How to find the most frequent value in an array?"
   ]
  },
  {
   "cell_type": "code",
   "execution_count": 30,
   "metadata": {
    "ExecuteTime": {
     "end_time": "2020-07-25T22:11:08.496349Z",
     "start_time": "2020-07-25T22:11:07.096708Z"
    }
   },
   "outputs": [],
   "source": [
    "from scipy import stats"
   ]
  },
  {
   "cell_type": "code",
   "execution_count": 31,
   "metadata": {
    "ExecuteTime": {
     "end_time": "2020-07-25T22:11:08.507729Z",
     "start_time": "2020-07-25T22:11:08.498907Z"
    }
   },
   "outputs": [
    {
     "data": {
      "text/plain": [
       "5"
      ]
     },
     "execution_count": 31,
     "metadata": {},
     "output_type": "execute_result"
    }
   ],
   "source": [
    "arr = [4,5,7,4,6,3,5,6,8,8,6,5,3,5,7,8,3,2,1,4,6,]\n",
    "stats.mode(arr)[0][0]"
   ]
  },
  {
   "cell_type": "markdown",
   "metadata": {},
   "source": [
    "# 14.How to get the n largest values of an array"
   ]
  },
  {
   "cell_type": "code",
   "execution_count": 32,
   "metadata": {
    "ExecuteTime": {
     "end_time": "2020-07-25T22:11:08.607403Z",
     "start_time": "2020-07-25T22:11:08.510977Z"
    }
   },
   "outputs": [],
   "source": [
    "a = np.random.rand(1000)"
   ]
  },
  {
   "cell_type": "code",
   "execution_count": 33,
   "metadata": {
    "ExecuteTime": {
     "end_time": "2020-07-25T22:11:08.721216Z",
     "start_time": "2020-07-25T22:11:08.613127Z"
    }
   },
   "outputs": [],
   "source": [
    "a.sort()"
   ]
  },
  {
   "cell_type": "code",
   "execution_count": 34,
   "metadata": {
    "ExecuteTime": {
     "end_time": "2020-07-25T22:11:08.820377Z",
     "start_time": "2020-07-25T22:11:08.727300Z"
    }
   },
   "outputs": [],
   "source": [
    "top = 5"
   ]
  },
  {
   "cell_type": "code",
   "execution_count": 35,
   "metadata": {
    "ExecuteTime": {
     "end_time": "2020-07-25T22:11:08.918289Z",
     "start_time": "2020-07-25T22:11:08.823021Z"
    }
   },
   "outputs": [
    {
     "data": {
      "text/plain": [
       "array([0.00430738, 0.00928866, 0.00944924, 0.01141533, 0.01162168])"
      ]
     },
     "execution_count": 35,
     "metadata": {},
     "output_type": "execute_result"
    }
   ],
   "source": [
    "top_value = a[:top]\n",
    "top_value"
   ]
  },
  {
   "cell_type": "code",
   "execution_count": 36,
   "metadata": {
    "ExecuteTime": {
     "end_time": "2020-07-25T22:11:08.999829Z",
     "start_time": "2020-07-25T22:11:08.921790Z"
    }
   },
   "outputs": [
    {
     "data": {
      "text/plain": [
       "5"
      ]
     },
     "execution_count": 36,
     "metadata": {},
     "output_type": "execute_result"
    }
   ],
   "source": [
    "top_value.size"
   ]
  },
  {
   "cell_type": "markdown",
   "metadata": {},
   "source": [
    "# 15.How to create a record array from a regular array?"
   ]
  },
  {
   "cell_type": "code",
   "execution_count": 37,
   "metadata": {
    "ExecuteTime": {
     "end_time": "2020-07-25T22:11:09.085461Z",
     "start_time": "2020-07-25T22:11:09.002598Z"
    }
   },
   "outputs": [],
   "source": [
    "# regualr array = \n",
    "a = [23,95,8939330483]"
   ]
  },
  {
   "cell_type": "code",
   "execution_count": 38,
   "metadata": {
    "ExecuteTime": {
     "end_time": "2020-07-25T22:11:10.005013Z",
     "start_time": "2020-07-25T22:11:09.092967Z"
    }
   },
   "outputs": [],
   "source": [
    "import pandas as pd"
   ]
  },
  {
   "cell_type": "code",
   "execution_count": 39,
   "metadata": {
    "ExecuteTime": {
     "end_time": "2020-07-25T22:11:10.035536Z",
     "start_time": "2020-07-25T22:11:10.009534Z"
    }
   },
   "outputs": [
    {
     "data": {
      "text/html": [
       "<div>\n",
       "<style scoped>\n",
       "    .dataframe tbody tr th:only-of-type {\n",
       "        vertical-align: middle;\n",
       "    }\n",
       "\n",
       "    .dataframe tbody tr th {\n",
       "        vertical-align: top;\n",
       "    }\n",
       "\n",
       "    .dataframe thead th {\n",
       "        text-align: right;\n",
       "    }\n",
       "</style>\n",
       "<table border=\"1\" class=\"dataframe\">\n",
       "  <thead>\n",
       "    <tr style=\"text-align: right;\">\n",
       "      <th></th>\n",
       "      <th>0</th>\n",
       "    </tr>\n",
       "  </thead>\n",
       "  <tbody>\n",
       "    <tr>\n",
       "      <th>Roll</th>\n",
       "      <td>23</td>\n",
       "    </tr>\n",
       "    <tr>\n",
       "      <th>Marks</th>\n",
       "      <td>95</td>\n",
       "    </tr>\n",
       "    <tr>\n",
       "      <th>Phone</th>\n",
       "      <td>8939330483</td>\n",
       "    </tr>\n",
       "  </tbody>\n",
       "</table>\n",
       "</div>"
      ],
      "text/plain": [
       "                0\n",
       "Roll           23\n",
       "Marks          95\n",
       "Phone  8939330483"
      ]
     },
     "execution_count": 39,
     "metadata": {},
     "output_type": "execute_result"
    }
   ],
   "source": [
    "b = pd.DataFrame(a,index=['Roll','Marks','Phone'])\n",
    "b"
   ]
  },
  {
   "cell_type": "code",
   "execution_count": 40,
   "metadata": {
    "ExecuteTime": {
     "end_time": "2020-07-25T22:11:10.193298Z",
     "start_time": "2020-07-25T22:11:10.040376Z"
    }
   },
   "outputs": [
    {
     "data": {
      "text/html": [
       "<div>\n",
       "<style scoped>\n",
       "    .dataframe tbody tr th:only-of-type {\n",
       "        vertical-align: middle;\n",
       "    }\n",
       "\n",
       "    .dataframe tbody tr th {\n",
       "        vertical-align: top;\n",
       "    }\n",
       "\n",
       "    .dataframe thead th {\n",
       "        text-align: right;\n",
       "    }\n",
       "</style>\n",
       "<table border=\"1\" class=\"dataframe\">\n",
       "  <thead>\n",
       "    <tr style=\"text-align: right;\">\n",
       "      <th></th>\n",
       "      <th>0</th>\n",
       "    </tr>\n",
       "  </thead>\n",
       "  <tbody>\n",
       "    <tr>\n",
       "      <th>Roll</th>\n",
       "      <td>23</td>\n",
       "    </tr>\n",
       "    <tr>\n",
       "      <th>Marks</th>\n",
       "      <td>95</td>\n",
       "    </tr>\n",
       "    <tr>\n",
       "      <th>Phone</th>\n",
       "      <td>8939330483</td>\n",
       "    </tr>\n",
       "  </tbody>\n",
       "</table>\n",
       "</div>"
      ],
      "text/plain": [
       "                0\n",
       "Roll           23\n",
       "Marks          95\n",
       "Phone  8939330483"
      ]
     },
     "execution_count": 40,
     "metadata": {},
     "output_type": "execute_result"
    }
   ],
   "source": [
    "# named array is record array\n",
    "b"
   ]
  }
 ],
 "metadata": {
  "kernelspec": {
   "display_name": "Python 3",
   "language": "python",
   "name": "python3"
  },
  "language_info": {
   "codemirror_mode": {
    "name": "ipython",
    "version": 3
   },
   "file_extension": ".py",
   "mimetype": "text/x-python",
   "name": "python",
   "nbconvert_exporter": "python",
   "pygments_lexer": "ipython3",
   "version": "3.7.4"
  }
 },
 "nbformat": 4,
 "nbformat_minor": 2
}
