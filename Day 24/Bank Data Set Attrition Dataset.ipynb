{
 "cells": [
  {
   "cell_type": "code",
   "execution_count": 2,
   "metadata": {
    "ExecuteTime": {
     "end_time": "2020-08-09T16:10:53.101132Z",
     "start_time": "2020-08-09T16:10:53.090744Z"
    }
   },
   "outputs": [],
   "source": [
    "import pandas as pd\n",
    "import matplotlib.pyplot as plt\n",
    "from sklearn import tree\n",
    "from sklearn.tree import DecisionTreeClassifier\n",
    "from sklearn.ensemble import RandomForestClassifier"
   ]
  },
  {
   "cell_type": "code",
   "execution_count": 3,
   "metadata": {
    "ExecuteTime": {
     "end_time": "2020-08-09T16:11:46.253466Z",
     "start_time": "2020-08-09T16:11:44.843618Z"
    }
   },
   "outputs": [],
   "source": [
    "df = pd.read_excel('dataset/Bank_Personal_Loan_Modelling.xlsx',sheet_name=1)"
   ]
  },
  {
   "cell_type": "code",
   "execution_count": 4,
   "metadata": {
    "ExecuteTime": {
     "end_time": "2020-08-09T16:11:50.124194Z",
     "start_time": "2020-08-09T16:11:50.029203Z"
    }
   },
   "outputs": [
    {
     "data": {
      "text/html": [
       "<div>\n",
       "<style scoped>\n",
       "    .dataframe tbody tr th:only-of-type {\n",
       "        vertical-align: middle;\n",
       "    }\n",
       "\n",
       "    .dataframe tbody tr th {\n",
       "        vertical-align: top;\n",
       "    }\n",
       "\n",
       "    .dataframe thead th {\n",
       "        text-align: right;\n",
       "    }\n",
       "</style>\n",
       "<table border=\"1\" class=\"dataframe\">\n",
       "  <thead>\n",
       "    <tr style=\"text-align: right;\">\n",
       "      <th></th>\n",
       "      <th>ID</th>\n",
       "      <th>Age</th>\n",
       "      <th>Experience</th>\n",
       "      <th>Income</th>\n",
       "      <th>ZIP Code</th>\n",
       "      <th>Family</th>\n",
       "      <th>CCAvg</th>\n",
       "      <th>Education</th>\n",
       "      <th>Mortgage</th>\n",
       "      <th>Personal Loan</th>\n",
       "      <th>Securities Account</th>\n",
       "      <th>CD Account</th>\n",
       "      <th>Online</th>\n",
       "      <th>CreditCard</th>\n",
       "    </tr>\n",
       "  </thead>\n",
       "  <tbody>\n",
       "    <tr>\n",
       "      <th>0</th>\n",
       "      <td>1</td>\n",
       "      <td>25</td>\n",
       "      <td>1</td>\n",
       "      <td>49</td>\n",
       "      <td>91107</td>\n",
       "      <td>4</td>\n",
       "      <td>1.6</td>\n",
       "      <td>1</td>\n",
       "      <td>0</td>\n",
       "      <td>0</td>\n",
       "      <td>1</td>\n",
       "      <td>0</td>\n",
       "      <td>0</td>\n",
       "      <td>0</td>\n",
       "    </tr>\n",
       "    <tr>\n",
       "      <th>1</th>\n",
       "      <td>2</td>\n",
       "      <td>45</td>\n",
       "      <td>19</td>\n",
       "      <td>34</td>\n",
       "      <td>90089</td>\n",
       "      <td>3</td>\n",
       "      <td>1.5</td>\n",
       "      <td>1</td>\n",
       "      <td>0</td>\n",
       "      <td>0</td>\n",
       "      <td>1</td>\n",
       "      <td>0</td>\n",
       "      <td>0</td>\n",
       "      <td>0</td>\n",
       "    </tr>\n",
       "    <tr>\n",
       "      <th>2</th>\n",
       "      <td>3</td>\n",
       "      <td>39</td>\n",
       "      <td>15</td>\n",
       "      <td>11</td>\n",
       "      <td>94720</td>\n",
       "      <td>1</td>\n",
       "      <td>1.0</td>\n",
       "      <td>1</td>\n",
       "      <td>0</td>\n",
       "      <td>0</td>\n",
       "      <td>0</td>\n",
       "      <td>0</td>\n",
       "      <td>0</td>\n",
       "      <td>0</td>\n",
       "    </tr>\n",
       "    <tr>\n",
       "      <th>3</th>\n",
       "      <td>4</td>\n",
       "      <td>35</td>\n",
       "      <td>9</td>\n",
       "      <td>100</td>\n",
       "      <td>94112</td>\n",
       "      <td>1</td>\n",
       "      <td>2.7</td>\n",
       "      <td>2</td>\n",
       "      <td>0</td>\n",
       "      <td>0</td>\n",
       "      <td>0</td>\n",
       "      <td>0</td>\n",
       "      <td>0</td>\n",
       "      <td>0</td>\n",
       "    </tr>\n",
       "    <tr>\n",
       "      <th>4</th>\n",
       "      <td>5</td>\n",
       "      <td>35</td>\n",
       "      <td>8</td>\n",
       "      <td>45</td>\n",
       "      <td>91330</td>\n",
       "      <td>4</td>\n",
       "      <td>1.0</td>\n",
       "      <td>2</td>\n",
       "      <td>0</td>\n",
       "      <td>0</td>\n",
       "      <td>0</td>\n",
       "      <td>0</td>\n",
       "      <td>0</td>\n",
       "      <td>1</td>\n",
       "    </tr>\n",
       "  </tbody>\n",
       "</table>\n",
       "</div>"
      ],
      "text/plain": [
       "   ID  Age  Experience  Income  ZIP Code  Family  CCAvg  Education  Mortgage  \\\n",
       "0   1   25           1      49     91107       4    1.6          1         0   \n",
       "1   2   45          19      34     90089       3    1.5          1         0   \n",
       "2   3   39          15      11     94720       1    1.0          1         0   \n",
       "3   4   35           9     100     94112       1    2.7          2         0   \n",
       "4   5   35           8      45     91330       4    1.0          2         0   \n",
       "\n",
       "   Personal Loan  Securities Account  CD Account  Online  CreditCard  \n",
       "0              0                   1           0       0           0  \n",
       "1              0                   1           0       0           0  \n",
       "2              0                   0           0       0           0  \n",
       "3              0                   0           0       0           0  \n",
       "4              0                   0           0       0           1  "
      ]
     },
     "execution_count": 4,
     "metadata": {},
     "output_type": "execute_result"
    }
   ],
   "source": [
    "df.head()"
   ]
  },
  {
   "cell_type": "code",
   "execution_count": 5,
   "metadata": {
    "ExecuteTime": {
     "end_time": "2020-08-09T16:11:53.896624Z",
     "start_time": "2020-08-09T16:11:53.889737Z"
    }
   },
   "outputs": [
    {
     "data": {
      "text/plain": [
       "(5000, 14)"
      ]
     },
     "execution_count": 5,
     "metadata": {},
     "output_type": "execute_result"
    }
   ],
   "source": [
    "df.shape"
   ]
  },
  {
   "cell_type": "code",
   "execution_count": 10,
   "metadata": {
    "ExecuteTime": {
     "end_time": "2020-08-09T16:17:08.351482Z",
     "start_time": "2020-08-09T16:17:08.343051Z"
    }
   },
   "outputs": [
    {
     "data": {
      "text/plain": [
       "Index(['ID', 'Age', 'Experience', 'Income', 'ZIP Code', 'Family', 'CCAvg',\n",
       "       'Education', 'Mortgage', 'Personal Loan', 'Securities Account',\n",
       "       'CD Account', 'Online', 'CreditCard'],\n",
       "      dtype='object')"
      ]
     },
     "execution_count": 10,
     "metadata": {},
     "output_type": "execute_result"
    }
   ],
   "source": [
    "df.columns"
   ]
  },
  {
   "cell_type": "code",
   "execution_count": 11,
   "metadata": {
    "ExecuteTime": {
     "end_time": "2020-08-09T16:17:45.231931Z",
     "start_time": "2020-08-09T16:17:45.224158Z"
    }
   },
   "outputs": [],
   "source": [
    "df.drop(['ID'],axis=1,inplace=True)"
   ]
  },
  {
   "cell_type": "code",
   "execution_count": 12,
   "metadata": {
    "ExecuteTime": {
     "end_time": "2020-08-09T16:17:46.406594Z",
     "start_time": "2020-08-09T16:17:46.392176Z"
    }
   },
   "outputs": [
    {
     "data": {
      "text/plain": [
       "Age                   0\n",
       "Experience            0\n",
       "Income                0\n",
       "ZIP Code              0\n",
       "Family                0\n",
       "CCAvg                 0\n",
       "Education             0\n",
       "Mortgage              0\n",
       "Personal Loan         0\n",
       "Securities Account    0\n",
       "CD Account            0\n",
       "Online                0\n",
       "CreditCard            0\n",
       "dtype: int64"
      ]
     },
     "execution_count": 12,
     "metadata": {},
     "output_type": "execute_result"
    }
   ],
   "source": [
    "df.isnull().sum()"
   ]
  },
  {
   "cell_type": "code",
   "execution_count": 13,
   "metadata": {
    "ExecuteTime": {
     "end_time": "2020-08-09T16:17:48.528254Z",
     "start_time": "2020-08-09T16:17:48.502424Z"
    }
   },
   "outputs": [
    {
     "name": "stdout",
     "output_type": "stream",
     "text": [
      "<class 'pandas.core.frame.DataFrame'>\n",
      "RangeIndex: 5000 entries, 0 to 4999\n",
      "Data columns (total 13 columns):\n",
      " #   Column              Non-Null Count  Dtype  \n",
      "---  ------              --------------  -----  \n",
      " 0   Age                 5000 non-null   int64  \n",
      " 1   Experience          5000 non-null   int64  \n",
      " 2   Income              5000 non-null   int64  \n",
      " 3   ZIP Code            5000 non-null   int64  \n",
      " 4   Family              5000 non-null   int64  \n",
      " 5   CCAvg               5000 non-null   float64\n",
      " 6   Education           5000 non-null   int64  \n",
      " 7   Mortgage            5000 non-null   int64  \n",
      " 8   Personal Loan       5000 non-null   int64  \n",
      " 9   Securities Account  5000 non-null   int64  \n",
      " 10  CD Account          5000 non-null   int64  \n",
      " 11  Online              5000 non-null   int64  \n",
      " 12  CreditCard          5000 non-null   int64  \n",
      "dtypes: float64(1), int64(12)\n",
      "memory usage: 507.9 KB\n"
     ]
    }
   ],
   "source": [
    "df.info()"
   ]
  },
  {
   "cell_type": "code",
   "execution_count": 14,
   "metadata": {
    "ExecuteTime": {
     "end_time": "2020-08-09T16:17:54.669781Z",
     "start_time": "2020-08-09T16:17:54.665582Z"
    }
   },
   "outputs": [],
   "source": [
    "randomForestClassifier = RandomForestClassifier(n_estimators=1000,max_features=12,oob_score=True)"
   ]
  },
  {
   "cell_type": "code",
   "execution_count": 16,
   "metadata": {
    "ExecuteTime": {
     "end_time": "2020-08-09T16:18:40.016693Z",
     "start_time": "2020-08-09T16:18:31.148761Z"
    }
   },
   "outputs": [
    {
     "data": {
      "text/plain": [
       "RandomForestClassifier(bootstrap=True, class_weight=None, criterion='gini',\n",
       "                       max_depth=None, max_features=12, max_leaf_nodes=None,\n",
       "                       min_impurity_decrease=0.0, min_impurity_split=None,\n",
       "                       min_samples_leaf=1, min_samples_split=2,\n",
       "                       min_weight_fraction_leaf=0.0, n_estimators=1000,\n",
       "                       n_jobs=None, oob_score=True, random_state=None,\n",
       "                       verbose=0, warm_start=False)"
      ]
     },
     "execution_count": 16,
     "metadata": {},
     "output_type": "execute_result"
    }
   ],
   "source": [
    "randomForestClassifier.fit(df.drop(['Personal Loan'],axis=1),df['Personal Loan'])"
   ]
  },
  {
   "cell_type": "code",
   "execution_count": 19,
   "metadata": {
    "ExecuteTime": {
     "end_time": "2020-08-09T16:20:29.730260Z",
     "start_time": "2020-08-09T16:20:29.527245Z"
    }
   },
   "outputs": [
    {
     "name": "stdout",
     "output_type": "stream",
     "text": [
      "Personal Loan - 0.0014162211716866357\n",
      "Online - 0.0021724568062479045\n",
      "CD Account - 0.0037855996662823797\n",
      "Mortgage - 0.006116762230448804\n",
      "Experience - 0.014290995214683971\n",
      "Age - 0.016807293909644763\n",
      "Securities Account - 0.017464875826329815\n",
      "ZIP Code - 0.01883832137170919\n",
      "CCAvg - 0.06113928937546447\n",
      "Family - 0.1511912696394559\n",
      "Income - 0.3390535276599535\n",
      "Education - 0.3677233871280927\n"
     ]
    }
   ],
   "source": [
    "z = zip(df.columns,randomForestClassifier.feature_importances_)\n",
    "z_sorted = sorted(z,key= lambda x : x[1])\n",
    "for feature,importance in z_sorted:\n",
    "    print(feature,'-',importance)"
   ]
  },
  {
   "cell_type": "markdown",
   "metadata": {},
   "source": [
    "# As we can see only 3 column is importance Family, Income, Education\n",
    "* Family - 0.1511912696394559\n",
    "* Income - 0.3390535276599535\n",
    "* Education - 0.3677233871280927"
   ]
  },
  {
   "cell_type": "code",
   "execution_count": 20,
   "metadata": {
    "ExecuteTime": {
     "end_time": "2020-08-09T16:21:58.942353Z",
     "start_time": "2020-08-09T16:21:58.937358Z"
    }
   },
   "outputs": [],
   "source": [
    "decisionTreeClassifier = DecisionTreeClassifier(max_depth=4)"
   ]
  },
  {
   "cell_type": "code",
   "execution_count": 21,
   "metadata": {
    "ExecuteTime": {
     "end_time": "2020-08-09T16:22:55.637835Z",
     "start_time": "2020-08-09T16:22:55.624519Z"
    }
   },
   "outputs": [
    {
     "data": {
      "text/plain": [
       "DecisionTreeClassifier(class_weight=None, criterion='gini', max_depth=4,\n",
       "                       max_features=None, max_leaf_nodes=None,\n",
       "                       min_impurity_decrease=0.0, min_impurity_split=None,\n",
       "                       min_samples_leaf=1, min_samples_split=2,\n",
       "                       min_weight_fraction_leaf=0.0, presort=False,\n",
       "                       random_state=None, splitter='best')"
      ]
     },
     "execution_count": 21,
     "metadata": {},
     "output_type": "execute_result"
    }
   ],
   "source": [
    "decisionTreeClassifier.fit(df[['Family','Income','Education']],df['Personal Loan'])"
   ]
  },
  {
   "cell_type": "code",
   "execution_count": 24,
   "metadata": {
    "ExecuteTime": {
     "end_time": "2020-08-09T16:24:04.765356Z",
     "start_time": "2020-08-09T16:24:04.757775Z"
    }
   },
   "outputs": [],
   "source": [
    "plt.rcParams[\"figure.figsize\"] = (300,100)"
   ]
  },
  {
   "cell_type": "code",
   "execution_count": null,
   "metadata": {
    "ExecuteTime": {
     "start_time": "2020-08-09T16:24:05.898Z"
    }
   },
   "outputs": [
    {
     "data": {
      "text/plain": [
       "[Text(9825.652173913044, 4892.4, 'X[1] <= 113.5\\ngini = 0.174\\nsamples = 5000\\nvalue = [4520, 480]'),\n",
       " Text(5822.608695652174, 3805.2, 'X[1] <= 92.5\\ngini = 0.041\\nsamples = 4021\\nvalue = [3937, 84]'),\n",
       " Text(2911.304347826087, 2718.0, 'X[1] <= 82.5\\ngini = 0.014\\nsamples = 3638\\nvalue = [3613, 25]'),\n",
       " Text(1455.6521739130435, 1630.7999999999997, 'X[1] <= 63.5\\ngini = 0.005\\nsamples = 3272\\nvalue = [3263, 9]'),\n",
       " Text(727.8260869565217, 543.5999999999995, 'gini = 0.001\\nsamples = 2490\\nvalue = [2489, 1]'),\n",
       " Text(2183.478260869565, 543.5999999999995, 'gini = 0.02\\nsamples = 782\\nvalue = [774, 8]'),\n",
       " Text(4366.95652173913, 1630.7999999999997, 'X[1] <= 83.5\\ngini = 0.084\\nsamples = 366\\nvalue = [350, 16]'),\n",
       " Text(3639.130434782609, 543.5999999999995, 'gini = 0.171\\nsamples = 74\\nvalue = [67, 7]'),\n",
       " Text(5094.782608695652, 543.5999999999995, 'gini = 0.06\\nsamples = 292\\nvalue = [283, 9]'),\n",
       " Text(8733.91304347826, 2718.0, 'X[2] <= 1.5\\ngini = 0.261\\nsamples = 383\\nvalue = [324, 59]'),\n",
       " Text(7278.260869565218, 1630.7999999999997, 'X[0] <= 3.5\\ngini = 0.14\\nsamples = 185\\nvalue = [171, 14]'),\n",
       " Text(6550.434782608696, 543.5999999999995, 'gini = 0.087\\nsamples = 176\\nvalue = [168, 8]'),\n",
       " Text(8006.086956521739, 543.5999999999995, 'gini = 0.444\\nsamples = 9\\nvalue = [3, 6]'),\n",
       " Text(10189.565217391304, 1630.7999999999997, 'X[1] <= 101.5\\ngini = 0.351\\nsamples = 198\\nvalue = [153, 45]'),\n",
       " Text(9461.739130434782, 543.5999999999995, 'gini = 0.271\\nsamples = 99\\nvalue = [83, 16]'),\n",
       " Text(10917.391304347826, 543.5999999999995, 'gini = 0.414\\nsamples = 99\\nvalue = [70, 29]'),\n",
       " Text(13828.695652173914, 3805.2, 'X[2] <= 1.5\\ngini = 0.482\\nsamples = 979\\nvalue = [583, 396]'),\n",
       " Text(12373.04347826087, 2718.0, 'X[0] <= 2.5\\ngini = 0.194\\nsamples = 635\\nvalue = [566, 69]'),\n",
       " Text(11645.217391304348, 1630.7999999999997, 'gini = 0.0\\nsamples = 566\\nvalue = [566, 0]'),\n",
       " Text(13100.869565217392, 1630.7999999999997, 'gini = 0.0\\nsamples = 69\\nvalue = [0, 69]'),\n",
       " Text(15284.347826086956, 2718.0, 'X[1] <= 116.5\\ngini = 0.094\\nsamples = 344\\nvalue = [17, 327]'),\n",
       " Text(14556.521739130436, 1630.7999999999997, 'X[1] <= 114.5\\ngini = 0.491\\nsamples = 30\\nvalue = [17, 13]'),\n",
       " Text(13828.695652173914, 543.5999999999995, 'gini = 0.43\\nsamples = 16\\nvalue = [11, 5]'),\n",
       " Text(15284.347826086956, 543.5999999999995, 'gini = 0.49\\nsamples = 14\\nvalue = [6, 8]'),\n",
       " Text(16012.173913043478, 1630.7999999999997, 'gini = 0.0\\nsamples = 314\\nvalue = [0, 314]')]"
      ]
     },
     "execution_count": 25,
     "metadata": {},
     "output_type": "execute_result"
    }
   ],
   "source": [
    "tree.plot_tree(decisionTreeClassifier,filled = True)"
   ]
  },
  {
   "cell_type": "code",
   "execution_count": null,
   "metadata": {},
   "outputs": [],
   "source": []
  }
 ],
 "metadata": {
  "kernelspec": {
   "display_name": "Python 3",
   "language": "python",
   "name": "python3"
  },
  "language_info": {
   "codemirror_mode": {
    "name": "ipython",
    "version": 3
   },
   "file_extension": ".py",
   "mimetype": "text/x-python",
   "name": "python",
   "nbconvert_exporter": "python",
   "pygments_lexer": "ipython3",
   "version": "3.7.4"
  }
 },
 "nbformat": 4,
 "nbformat_minor": 2
}
